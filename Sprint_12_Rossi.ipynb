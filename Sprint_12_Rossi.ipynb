{
 "cells": [
  {
   "cell_type": "markdown",
   "metadata": {},
   "source": [
    "Hello Rossi!\n",
    "\n",
    "I’m happy to review your project today.\n",
    "I will mark your mistakes and give you some hints how it is possible to fix them. We are getting ready for real job, where your team leader/senior colleague will do exactly the same. Don't worry and study with pleasure! \n",
    "\n",
    "Below you will find my comments - **please do not move, modify or delete them**.\n",
    "\n",
    "You can find my comments in green, yellow or red boxes like this:\n",
    "\n",
    "<div class=\"alert alert-block alert-success\">\n",
    "<b>Reviewer's comment</b> <a class=\"tocSkip\"></a>\n",
    "\n",
    "Success. Everything is done succesfully.\n",
    "</div>\n",
    "\n",
    "<div class=\"alert alert-block alert-warning\">\n",
    "<b>Reviewer's comment</b> <a class=\"tocSkip\"></a>\n",
    "\n",
    "Remarks. Some recommendations.\n",
    "</div>\n",
    "\n",
    "<div class=\"alert alert-block alert-danger\">\n",
    "\n",
    "<b>Reviewer's comment</b> <a class=\"tocSkip\"></a>\n",
    "\n",
    "Needs fixing. The block requires some corrections. Work can't be accepted with the red comments.\n",
    "</div>\n",
    "\n",
    "You can answer me by using this:\n",
    "\n",
    "<div class=\"alert alert-block alert-info\">\n",
    "<b>Student answer.</b> <a class=\"tocSkip\"></a>\n",
    "\n",
    "Text here.\n",
    "</div>"
   ]
  },
  {
   "cell_type": "markdown",
   "metadata": {},
   "source": [
    "Rusty Bargain used car sales service is developing an app to attract new customers. In that app, you can quickly find out the market value of your car. You have access to historical data: technical specifications, trim versions, and prices. You need to build the model to determine the value. \n",
    "\n",
    "Rusty Bargain is interested in:\n",
    "\n",
    "- the quality of the prediction;\n",
    "- the speed of the prediction;\n",
    "- the time required for training"
   ]
  },
  {
   "cell_type": "markdown",
   "metadata": {},
   "source": [
    "## Import Packages "
   ]
  },
  {
   "cell_type": "code",
   "execution_count": 1,
   "metadata": {},
   "outputs": [],
   "source": [
    "# required libraries\n",
    "import pandas as pd\n",
    "import numpy as np\n",
    "import matplotlib.pyplot as plt\n",
    "import seaborn as sns\n",
    "\n",
    "from sklearn.model_selection import train_test_split, cross_val_score\n",
    "from sklearn.preprocessing import StandardScaler, OrdinalEncoder\n",
    "from sklearn.metrics import r2_score, mean_squared_error\n",
    "from sklearn.linear_model import LinearRegression\n",
    "from sklearn.ensemble import RandomForestRegressor\n",
    "\n",
    "from lightgbm import LGBMRegressor\n",
    "import xgboost as xgb\n",
    "\n",
    "import warnings\n",
    "\n",
    "warnings.filterwarnings(\"ignore\")"
   ]
  },
  {
   "cell_type": "markdown",
   "metadata": {},
   "source": [
    "## Import Data"
   ]
  },
  {
   "cell_type": "code",
   "execution_count": 2,
   "metadata": {},
   "outputs": [],
   "source": [
    "df = pd.read_csv('/datasets/car_data.csv')"
   ]
  },
  {
   "cell_type": "code",
   "execution_count": 3,
   "metadata": {},
   "outputs": [
    {
     "data": {
      "text/html": [
       "<div>\n",
       "<style scoped>\n",
       "    .dataframe tbody tr th:only-of-type {\n",
       "        vertical-align: middle;\n",
       "    }\n",
       "\n",
       "    .dataframe tbody tr th {\n",
       "        vertical-align: top;\n",
       "    }\n",
       "\n",
       "    .dataframe thead th {\n",
       "        text-align: right;\n",
       "    }\n",
       "</style>\n",
       "<table border=\"1\" class=\"dataframe\">\n",
       "  <thead>\n",
       "    <tr style=\"text-align: right;\">\n",
       "      <th></th>\n",
       "      <th>DateCrawled</th>\n",
       "      <th>Price</th>\n",
       "      <th>VehicleType</th>\n",
       "      <th>RegistrationYear</th>\n",
       "      <th>Gearbox</th>\n",
       "      <th>Power</th>\n",
       "      <th>Model</th>\n",
       "      <th>Mileage</th>\n",
       "      <th>RegistrationMonth</th>\n",
       "      <th>FuelType</th>\n",
       "      <th>Brand</th>\n",
       "      <th>NotRepaired</th>\n",
       "      <th>DateCreated</th>\n",
       "      <th>NumberOfPictures</th>\n",
       "      <th>PostalCode</th>\n",
       "      <th>LastSeen</th>\n",
       "    </tr>\n",
       "  </thead>\n",
       "  <tbody>\n",
       "    <tr>\n",
       "      <th>0</th>\n",
       "      <td>24/03/2016 11:52</td>\n",
       "      <td>480</td>\n",
       "      <td>NaN</td>\n",
       "      <td>1993</td>\n",
       "      <td>manual</td>\n",
       "      <td>0</td>\n",
       "      <td>golf</td>\n",
       "      <td>150000</td>\n",
       "      <td>0</td>\n",
       "      <td>petrol</td>\n",
       "      <td>volkswagen</td>\n",
       "      <td>NaN</td>\n",
       "      <td>24/03/2016 00:00</td>\n",
       "      <td>0</td>\n",
       "      <td>70435</td>\n",
       "      <td>07/04/2016 03:16</td>\n",
       "    </tr>\n",
       "    <tr>\n",
       "      <th>1</th>\n",
       "      <td>24/03/2016 10:58</td>\n",
       "      <td>18300</td>\n",
       "      <td>coupe</td>\n",
       "      <td>2011</td>\n",
       "      <td>manual</td>\n",
       "      <td>190</td>\n",
       "      <td>NaN</td>\n",
       "      <td>125000</td>\n",
       "      <td>5</td>\n",
       "      <td>gasoline</td>\n",
       "      <td>audi</td>\n",
       "      <td>yes</td>\n",
       "      <td>24/03/2016 00:00</td>\n",
       "      <td>0</td>\n",
       "      <td>66954</td>\n",
       "      <td>07/04/2016 01:46</td>\n",
       "    </tr>\n",
       "    <tr>\n",
       "      <th>2</th>\n",
       "      <td>14/03/2016 12:52</td>\n",
       "      <td>9800</td>\n",
       "      <td>suv</td>\n",
       "      <td>2004</td>\n",
       "      <td>auto</td>\n",
       "      <td>163</td>\n",
       "      <td>grand</td>\n",
       "      <td>125000</td>\n",
       "      <td>8</td>\n",
       "      <td>gasoline</td>\n",
       "      <td>jeep</td>\n",
       "      <td>NaN</td>\n",
       "      <td>14/03/2016 00:00</td>\n",
       "      <td>0</td>\n",
       "      <td>90480</td>\n",
       "      <td>05/04/2016 12:47</td>\n",
       "    </tr>\n",
       "    <tr>\n",
       "      <th>3</th>\n",
       "      <td>17/03/2016 16:54</td>\n",
       "      <td>1500</td>\n",
       "      <td>small</td>\n",
       "      <td>2001</td>\n",
       "      <td>manual</td>\n",
       "      <td>75</td>\n",
       "      <td>golf</td>\n",
       "      <td>150000</td>\n",
       "      <td>6</td>\n",
       "      <td>petrol</td>\n",
       "      <td>volkswagen</td>\n",
       "      <td>no</td>\n",
       "      <td>17/03/2016 00:00</td>\n",
       "      <td>0</td>\n",
       "      <td>91074</td>\n",
       "      <td>17/03/2016 17:40</td>\n",
       "    </tr>\n",
       "    <tr>\n",
       "      <th>4</th>\n",
       "      <td>31/03/2016 17:25</td>\n",
       "      <td>3600</td>\n",
       "      <td>small</td>\n",
       "      <td>2008</td>\n",
       "      <td>manual</td>\n",
       "      <td>69</td>\n",
       "      <td>fabia</td>\n",
       "      <td>90000</td>\n",
       "      <td>7</td>\n",
       "      <td>gasoline</td>\n",
       "      <td>skoda</td>\n",
       "      <td>no</td>\n",
       "      <td>31/03/2016 00:00</td>\n",
       "      <td>0</td>\n",
       "      <td>60437</td>\n",
       "      <td>06/04/2016 10:17</td>\n",
       "    </tr>\n",
       "    <tr>\n",
       "      <th>5</th>\n",
       "      <td>04/04/2016 17:36</td>\n",
       "      <td>650</td>\n",
       "      <td>sedan</td>\n",
       "      <td>1995</td>\n",
       "      <td>manual</td>\n",
       "      <td>102</td>\n",
       "      <td>3er</td>\n",
       "      <td>150000</td>\n",
       "      <td>10</td>\n",
       "      <td>petrol</td>\n",
       "      <td>bmw</td>\n",
       "      <td>yes</td>\n",
       "      <td>04/04/2016 00:00</td>\n",
       "      <td>0</td>\n",
       "      <td>33775</td>\n",
       "      <td>06/04/2016 19:17</td>\n",
       "    </tr>\n",
       "    <tr>\n",
       "      <th>6</th>\n",
       "      <td>01/04/2016 20:48</td>\n",
       "      <td>2200</td>\n",
       "      <td>convertible</td>\n",
       "      <td>2004</td>\n",
       "      <td>manual</td>\n",
       "      <td>109</td>\n",
       "      <td>2_reihe</td>\n",
       "      <td>150000</td>\n",
       "      <td>8</td>\n",
       "      <td>petrol</td>\n",
       "      <td>peugeot</td>\n",
       "      <td>no</td>\n",
       "      <td>01/04/2016 00:00</td>\n",
       "      <td>0</td>\n",
       "      <td>67112</td>\n",
       "      <td>05/04/2016 18:18</td>\n",
       "    </tr>\n",
       "    <tr>\n",
       "      <th>7</th>\n",
       "      <td>21/03/2016 18:54</td>\n",
       "      <td>0</td>\n",
       "      <td>sedan</td>\n",
       "      <td>1980</td>\n",
       "      <td>manual</td>\n",
       "      <td>50</td>\n",
       "      <td>other</td>\n",
       "      <td>40000</td>\n",
       "      <td>7</td>\n",
       "      <td>petrol</td>\n",
       "      <td>volkswagen</td>\n",
       "      <td>no</td>\n",
       "      <td>21/03/2016 00:00</td>\n",
       "      <td>0</td>\n",
       "      <td>19348</td>\n",
       "      <td>25/03/2016 16:47</td>\n",
       "    </tr>\n",
       "    <tr>\n",
       "      <th>8</th>\n",
       "      <td>04/04/2016 23:42</td>\n",
       "      <td>14500</td>\n",
       "      <td>bus</td>\n",
       "      <td>2014</td>\n",
       "      <td>manual</td>\n",
       "      <td>125</td>\n",
       "      <td>c_max</td>\n",
       "      <td>30000</td>\n",
       "      <td>8</td>\n",
       "      <td>petrol</td>\n",
       "      <td>ford</td>\n",
       "      <td>NaN</td>\n",
       "      <td>04/04/2016 00:00</td>\n",
       "      <td>0</td>\n",
       "      <td>94505</td>\n",
       "      <td>04/04/2016 23:42</td>\n",
       "    </tr>\n",
       "    <tr>\n",
       "      <th>9</th>\n",
       "      <td>17/03/2016 10:53</td>\n",
       "      <td>999</td>\n",
       "      <td>small</td>\n",
       "      <td>1998</td>\n",
       "      <td>manual</td>\n",
       "      <td>101</td>\n",
       "      <td>golf</td>\n",
       "      <td>150000</td>\n",
       "      <td>0</td>\n",
       "      <td>NaN</td>\n",
       "      <td>volkswagen</td>\n",
       "      <td>NaN</td>\n",
       "      <td>17/03/2016 00:00</td>\n",
       "      <td>0</td>\n",
       "      <td>27472</td>\n",
       "      <td>31/03/2016 17:17</td>\n",
       "    </tr>\n",
       "  </tbody>\n",
       "</table>\n",
       "</div>"
      ],
      "text/plain": [
       "        DateCrawled  Price  VehicleType  RegistrationYear Gearbox  Power  \\\n",
       "0  24/03/2016 11:52    480          NaN              1993  manual      0   \n",
       "1  24/03/2016 10:58  18300        coupe              2011  manual    190   \n",
       "2  14/03/2016 12:52   9800          suv              2004    auto    163   \n",
       "3  17/03/2016 16:54   1500        small              2001  manual     75   \n",
       "4  31/03/2016 17:25   3600        small              2008  manual     69   \n",
       "5  04/04/2016 17:36    650        sedan              1995  manual    102   \n",
       "6  01/04/2016 20:48   2200  convertible              2004  manual    109   \n",
       "7  21/03/2016 18:54      0        sedan              1980  manual     50   \n",
       "8  04/04/2016 23:42  14500          bus              2014  manual    125   \n",
       "9  17/03/2016 10:53    999        small              1998  manual    101   \n",
       "\n",
       "     Model  Mileage  RegistrationMonth  FuelType       Brand NotRepaired  \\\n",
       "0     golf   150000                  0    petrol  volkswagen         NaN   \n",
       "1      NaN   125000                  5  gasoline        audi         yes   \n",
       "2    grand   125000                  8  gasoline        jeep         NaN   \n",
       "3     golf   150000                  6    petrol  volkswagen          no   \n",
       "4    fabia    90000                  7  gasoline       skoda          no   \n",
       "5      3er   150000                 10    petrol         bmw         yes   \n",
       "6  2_reihe   150000                  8    petrol     peugeot          no   \n",
       "7    other    40000                  7    petrol  volkswagen          no   \n",
       "8    c_max    30000                  8    petrol        ford         NaN   \n",
       "9     golf   150000                  0       NaN  volkswagen         NaN   \n",
       "\n",
       "        DateCreated  NumberOfPictures  PostalCode          LastSeen  \n",
       "0  24/03/2016 00:00                 0       70435  07/04/2016 03:16  \n",
       "1  24/03/2016 00:00                 0       66954  07/04/2016 01:46  \n",
       "2  14/03/2016 00:00                 0       90480  05/04/2016 12:47  \n",
       "3  17/03/2016 00:00                 0       91074  17/03/2016 17:40  \n",
       "4  31/03/2016 00:00                 0       60437  06/04/2016 10:17  \n",
       "5  04/04/2016 00:00                 0       33775  06/04/2016 19:17  \n",
       "6  01/04/2016 00:00                 0       67112  05/04/2016 18:18  \n",
       "7  21/03/2016 00:00                 0       19348  25/03/2016 16:47  \n",
       "8  04/04/2016 00:00                 0       94505  04/04/2016 23:42  \n",
       "9  17/03/2016 00:00                 0       27472  31/03/2016 17:17  "
      ]
     },
     "execution_count": 3,
     "metadata": {},
     "output_type": "execute_result"
    }
   ],
   "source": [
    "df.head(10)"
   ]
  },
  {
   "cell_type": "code",
   "execution_count": 4,
   "metadata": {},
   "outputs": [
    {
     "name": "stdout",
     "output_type": "stream",
     "text": [
      "<class 'pandas.core.frame.DataFrame'>\n",
      "RangeIndex: 354369 entries, 0 to 354368\n",
      "Data columns (total 16 columns):\n",
      " #   Column             Non-Null Count   Dtype \n",
      "---  ------             --------------   ----- \n",
      " 0   DateCrawled        354369 non-null  object\n",
      " 1   Price              354369 non-null  int64 \n",
      " 2   VehicleType        316879 non-null  object\n",
      " 3   RegistrationYear   354369 non-null  int64 \n",
      " 4   Gearbox            334536 non-null  object\n",
      " 5   Power              354369 non-null  int64 \n",
      " 6   Model              334664 non-null  object\n",
      " 7   Mileage            354369 non-null  int64 \n",
      " 8   RegistrationMonth  354369 non-null  int64 \n",
      " 9   FuelType           321474 non-null  object\n",
      " 10  Brand              354369 non-null  object\n",
      " 11  NotRepaired        283215 non-null  object\n",
      " 12  DateCreated        354369 non-null  object\n",
      " 13  NumberOfPictures   354369 non-null  int64 \n",
      " 14  PostalCode         354369 non-null  int64 \n",
      " 15  LastSeen           354369 non-null  object\n",
      "dtypes: int64(7), object(9)\n",
      "memory usage: 43.3+ MB\n"
     ]
    },
    {
     "data": {
      "text/html": [
       "<div>\n",
       "<style scoped>\n",
       "    .dataframe tbody tr th:only-of-type {\n",
       "        vertical-align: middle;\n",
       "    }\n",
       "\n",
       "    .dataframe tbody tr th {\n",
       "        vertical-align: top;\n",
       "    }\n",
       "\n",
       "    .dataframe thead th {\n",
       "        text-align: right;\n",
       "    }\n",
       "</style>\n",
       "<table border=\"1\" class=\"dataframe\">\n",
       "  <thead>\n",
       "    <tr style=\"text-align: right;\">\n",
       "      <th></th>\n",
       "      <th>Price</th>\n",
       "      <th>RegistrationYear</th>\n",
       "      <th>Power</th>\n",
       "      <th>Mileage</th>\n",
       "      <th>RegistrationMonth</th>\n",
       "      <th>NumberOfPictures</th>\n",
       "      <th>PostalCode</th>\n",
       "    </tr>\n",
       "  </thead>\n",
       "  <tbody>\n",
       "    <tr>\n",
       "      <th>count</th>\n",
       "      <td>354369.000000</td>\n",
       "      <td>354369.000000</td>\n",
       "      <td>354369.000000</td>\n",
       "      <td>354369.000000</td>\n",
       "      <td>354369.000000</td>\n",
       "      <td>354369.0</td>\n",
       "      <td>354369.000000</td>\n",
       "    </tr>\n",
       "    <tr>\n",
       "      <th>mean</th>\n",
       "      <td>4416.656776</td>\n",
       "      <td>2004.234448</td>\n",
       "      <td>110.094337</td>\n",
       "      <td>128211.172535</td>\n",
       "      <td>5.714645</td>\n",
       "      <td>0.0</td>\n",
       "      <td>50508.689087</td>\n",
       "    </tr>\n",
       "    <tr>\n",
       "      <th>std</th>\n",
       "      <td>4514.158514</td>\n",
       "      <td>90.227958</td>\n",
       "      <td>189.850405</td>\n",
       "      <td>37905.341530</td>\n",
       "      <td>3.726421</td>\n",
       "      <td>0.0</td>\n",
       "      <td>25783.096248</td>\n",
       "    </tr>\n",
       "    <tr>\n",
       "      <th>min</th>\n",
       "      <td>0.000000</td>\n",
       "      <td>1000.000000</td>\n",
       "      <td>0.000000</td>\n",
       "      <td>5000.000000</td>\n",
       "      <td>0.000000</td>\n",
       "      <td>0.0</td>\n",
       "      <td>1067.000000</td>\n",
       "    </tr>\n",
       "    <tr>\n",
       "      <th>25%</th>\n",
       "      <td>1050.000000</td>\n",
       "      <td>1999.000000</td>\n",
       "      <td>69.000000</td>\n",
       "      <td>125000.000000</td>\n",
       "      <td>3.000000</td>\n",
       "      <td>0.0</td>\n",
       "      <td>30165.000000</td>\n",
       "    </tr>\n",
       "    <tr>\n",
       "      <th>50%</th>\n",
       "      <td>2700.000000</td>\n",
       "      <td>2003.000000</td>\n",
       "      <td>105.000000</td>\n",
       "      <td>150000.000000</td>\n",
       "      <td>6.000000</td>\n",
       "      <td>0.0</td>\n",
       "      <td>49413.000000</td>\n",
       "    </tr>\n",
       "    <tr>\n",
       "      <th>75%</th>\n",
       "      <td>6400.000000</td>\n",
       "      <td>2008.000000</td>\n",
       "      <td>143.000000</td>\n",
       "      <td>150000.000000</td>\n",
       "      <td>9.000000</td>\n",
       "      <td>0.0</td>\n",
       "      <td>71083.000000</td>\n",
       "    </tr>\n",
       "    <tr>\n",
       "      <th>max</th>\n",
       "      <td>20000.000000</td>\n",
       "      <td>9999.000000</td>\n",
       "      <td>20000.000000</td>\n",
       "      <td>150000.000000</td>\n",
       "      <td>12.000000</td>\n",
       "      <td>0.0</td>\n",
       "      <td>99998.000000</td>\n",
       "    </tr>\n",
       "  </tbody>\n",
       "</table>\n",
       "</div>"
      ],
      "text/plain": [
       "               Price  RegistrationYear          Power        Mileage  \\\n",
       "count  354369.000000     354369.000000  354369.000000  354369.000000   \n",
       "mean     4416.656776       2004.234448     110.094337  128211.172535   \n",
       "std      4514.158514         90.227958     189.850405   37905.341530   \n",
       "min         0.000000       1000.000000       0.000000    5000.000000   \n",
       "25%      1050.000000       1999.000000      69.000000  125000.000000   \n",
       "50%      2700.000000       2003.000000     105.000000  150000.000000   \n",
       "75%      6400.000000       2008.000000     143.000000  150000.000000   \n",
       "max     20000.000000       9999.000000   20000.000000  150000.000000   \n",
       "\n",
       "       RegistrationMonth  NumberOfPictures     PostalCode  \n",
       "count      354369.000000          354369.0  354369.000000  \n",
       "mean            5.714645               0.0   50508.689087  \n",
       "std             3.726421               0.0   25783.096248  \n",
       "min             0.000000               0.0    1067.000000  \n",
       "25%             3.000000               0.0   30165.000000  \n",
       "50%             6.000000               0.0   49413.000000  \n",
       "75%             9.000000               0.0   71083.000000  \n",
       "max            12.000000               0.0   99998.000000  "
      ]
     },
     "metadata": {},
     "output_type": "display_data"
    }
   ],
   "source": [
    "df.info()\n",
    "display(df.describe())"
   ]
  },
  {
   "cell_type": "markdown",
   "metadata": {},
   "source": [
    "## Preprocessing"
   ]
  },
  {
   "cell_type": "code",
   "execution_count": 5,
   "metadata": {},
   "outputs": [
    {
     "data": {
      "text/html": [
       "<div>\n",
       "<style scoped>\n",
       "    .dataframe tbody tr th:only-of-type {\n",
       "        vertical-align: middle;\n",
       "    }\n",
       "\n",
       "    .dataframe tbody tr th {\n",
       "        vertical-align: top;\n",
       "    }\n",
       "\n",
       "    .dataframe thead th {\n",
       "        text-align: right;\n",
       "    }\n",
       "</style>\n",
       "<table border=\"1\" class=\"dataframe\">\n",
       "  <thead>\n",
       "    <tr style=\"text-align: right;\">\n",
       "      <th></th>\n",
       "      <th>datecrawled</th>\n",
       "      <th>price</th>\n",
       "      <th>vehicletype</th>\n",
       "      <th>registrationyear</th>\n",
       "      <th>gearbox</th>\n",
       "      <th>power</th>\n",
       "      <th>model</th>\n",
       "      <th>mileage</th>\n",
       "      <th>registrationmonth</th>\n",
       "      <th>fueltype</th>\n",
       "      <th>brand</th>\n",
       "      <th>notrepaired</th>\n",
       "      <th>datecreated</th>\n",
       "      <th>numberofpictures</th>\n",
       "      <th>postalcode</th>\n",
       "      <th>lastseen</th>\n",
       "    </tr>\n",
       "  </thead>\n",
       "  <tbody>\n",
       "    <tr>\n",
       "      <th>0</th>\n",
       "      <td>24/03/2016 11:52</td>\n",
       "      <td>480</td>\n",
       "      <td>NaN</td>\n",
       "      <td>1993</td>\n",
       "      <td>manual</td>\n",
       "      <td>0</td>\n",
       "      <td>golf</td>\n",
       "      <td>150000</td>\n",
       "      <td>0</td>\n",
       "      <td>petrol</td>\n",
       "      <td>volkswagen</td>\n",
       "      <td>NaN</td>\n",
       "      <td>24/03/2016 00:00</td>\n",
       "      <td>0</td>\n",
       "      <td>70435</td>\n",
       "      <td>07/04/2016 03:16</td>\n",
       "    </tr>\n",
       "    <tr>\n",
       "      <th>1</th>\n",
       "      <td>24/03/2016 10:58</td>\n",
       "      <td>18300</td>\n",
       "      <td>coupe</td>\n",
       "      <td>2011</td>\n",
       "      <td>manual</td>\n",
       "      <td>190</td>\n",
       "      <td>NaN</td>\n",
       "      <td>125000</td>\n",
       "      <td>5</td>\n",
       "      <td>gasoline</td>\n",
       "      <td>audi</td>\n",
       "      <td>yes</td>\n",
       "      <td>24/03/2016 00:00</td>\n",
       "      <td>0</td>\n",
       "      <td>66954</td>\n",
       "      <td>07/04/2016 01:46</td>\n",
       "    </tr>\n",
       "    <tr>\n",
       "      <th>2</th>\n",
       "      <td>14/03/2016 12:52</td>\n",
       "      <td>9800</td>\n",
       "      <td>suv</td>\n",
       "      <td>2004</td>\n",
       "      <td>auto</td>\n",
       "      <td>163</td>\n",
       "      <td>grand</td>\n",
       "      <td>125000</td>\n",
       "      <td>8</td>\n",
       "      <td>gasoline</td>\n",
       "      <td>jeep</td>\n",
       "      <td>NaN</td>\n",
       "      <td>14/03/2016 00:00</td>\n",
       "      <td>0</td>\n",
       "      <td>90480</td>\n",
       "      <td>05/04/2016 12:47</td>\n",
       "    </tr>\n",
       "    <tr>\n",
       "      <th>3</th>\n",
       "      <td>17/03/2016 16:54</td>\n",
       "      <td>1500</td>\n",
       "      <td>small</td>\n",
       "      <td>2001</td>\n",
       "      <td>manual</td>\n",
       "      <td>75</td>\n",
       "      <td>golf</td>\n",
       "      <td>150000</td>\n",
       "      <td>6</td>\n",
       "      <td>petrol</td>\n",
       "      <td>volkswagen</td>\n",
       "      <td>no</td>\n",
       "      <td>17/03/2016 00:00</td>\n",
       "      <td>0</td>\n",
       "      <td>91074</td>\n",
       "      <td>17/03/2016 17:40</td>\n",
       "    </tr>\n",
       "    <tr>\n",
       "      <th>4</th>\n",
       "      <td>31/03/2016 17:25</td>\n",
       "      <td>3600</td>\n",
       "      <td>small</td>\n",
       "      <td>2008</td>\n",
       "      <td>manual</td>\n",
       "      <td>69</td>\n",
       "      <td>fabia</td>\n",
       "      <td>90000</td>\n",
       "      <td>7</td>\n",
       "      <td>gasoline</td>\n",
       "      <td>skoda</td>\n",
       "      <td>no</td>\n",
       "      <td>31/03/2016 00:00</td>\n",
       "      <td>0</td>\n",
       "      <td>60437</td>\n",
       "      <td>06/04/2016 10:17</td>\n",
       "    </tr>\n",
       "  </tbody>\n",
       "</table>\n",
       "</div>"
      ],
      "text/plain": [
       "        datecrawled  price vehicletype  registrationyear gearbox  power  \\\n",
       "0  24/03/2016 11:52    480         NaN              1993  manual      0   \n",
       "1  24/03/2016 10:58  18300       coupe              2011  manual    190   \n",
       "2  14/03/2016 12:52   9800         suv              2004    auto    163   \n",
       "3  17/03/2016 16:54   1500       small              2001  manual     75   \n",
       "4  31/03/2016 17:25   3600       small              2008  manual     69   \n",
       "\n",
       "   model  mileage  registrationmonth  fueltype       brand notrepaired  \\\n",
       "0   golf   150000                  0    petrol  volkswagen         NaN   \n",
       "1    NaN   125000                  5  gasoline        audi         yes   \n",
       "2  grand   125000                  8  gasoline        jeep         NaN   \n",
       "3   golf   150000                  6    petrol  volkswagen          no   \n",
       "4  fabia    90000                  7  gasoline       skoda          no   \n",
       "\n",
       "        datecreated  numberofpictures  postalcode          lastseen  \n",
       "0  24/03/2016 00:00                 0       70435  07/04/2016 03:16  \n",
       "1  24/03/2016 00:00                 0       66954  07/04/2016 01:46  \n",
       "2  14/03/2016 00:00                 0       90480  05/04/2016 12:47  \n",
       "3  17/03/2016 00:00                 0       91074  17/03/2016 17:40  \n",
       "4  31/03/2016 00:00                 0       60437  06/04/2016 10:17  "
      ]
     },
     "execution_count": 5,
     "metadata": {},
     "output_type": "execute_result"
    }
   ],
   "source": [
    "# convert column names to lowercase\n",
    "df.columns = df.columns.str.lower().str.strip()\n",
    "df.head()"
   ]
  },
  {
   "cell_type": "code",
   "execution_count": 7,
   "metadata": {},
   "outputs": [
    {
     "data": {
      "text/plain": [
       "datecrawled          datetime64[ns]\n",
       "price                         int64\n",
       "vehicletype                  object\n",
       "registrationyear              int64\n",
       "gearbox                      object\n",
       "power                         int64\n",
       "model                        object\n",
       "mileage                       int64\n",
       "registrationmonth             int64\n",
       "fueltype                     object\n",
       "brand                        object\n",
       "notrepaired                  object\n",
       "datecreated          datetime64[ns]\n",
       "numberofpictures              int64\n",
       "postalcode                    int64\n",
       "lastseen             datetime64[ns]\n",
       "dtype: object"
      ]
     },
     "execution_count": 7,
     "metadata": {},
     "output_type": "execute_result"
    }
   ],
   "source": [
    "df[[\"datecrawled\", \"datecreated\", \"lastseen\"]] = df[\n",
    "    [\"datecrawled\", \"datecreated\", \"lastseen\"]\n",
    "].apply(pd.to_datetime, infer_datetime_format=True)\n",
    "df.dtypes"
   ]
  },
  {
   "cell_type": "markdown",
   "metadata": {},
   "source": [
    "### Missing Values"
   ]
  },
  {
   "cell_type": "code",
   "execution_count": 8,
   "metadata": {},
   "outputs": [
    {
     "data": {
      "text/plain": [
       "datecrawled              0\n",
       "price                    0\n",
       "vehicletype          37490\n",
       "registrationyear         0\n",
       "gearbox              19833\n",
       "power                    0\n",
       "model                19705\n",
       "mileage                  0\n",
       "registrationmonth        0\n",
       "fueltype             32895\n",
       "brand                    0\n",
       "notrepaired          71154\n",
       "datecreated              0\n",
       "numberofpictures         0\n",
       "postalcode               0\n",
       "lastseen                 0\n",
       "dtype: int64"
      ]
     },
     "metadata": {},
     "output_type": "display_data"
    }
   ],
   "source": [
    "# Check for NaN\n",
    "display(df.isna().sum())"
   ]
  },
  {
   "cell_type": "code",
   "execution_count": 13,
   "metadata": {},
   "outputs": [
    {
     "data": {
      "text/plain": [
       "datecrawled          0\n",
       "price                0\n",
       "vehicletype          0\n",
       "registrationyear     0\n",
       "gearbox              0\n",
       "power                0\n",
       "model                0\n",
       "mileage              0\n",
       "registrationmonth    0\n",
       "fueltype             0\n",
       "brand                0\n",
       "notrepaired          0\n",
       "datecreated          0\n",
       "lastseen             0\n",
       "dtype: int64"
      ]
     },
     "execution_count": 13,
     "metadata": {},
     "output_type": "execute_result"
    }
   ],
   "source": [
    "columns_with_missing_values = [\n",
    "    \"vehicletype\",\n",
    "    \"gearbox\",\n",
    "    \"model\",\n",
    "    \"fueltype\",\n",
    "    \"notrepaired\",\n",
    "]\n",
    "df[columns_with_missing_values] = df[columns_with_missing_values].fillna(\"unknown\")\n",
    "df.isna().sum()"
   ]
  },
  {
   "cell_type": "markdown",
   "metadata": {},
   "source": [
    "<div class=\"alert alert-block alert-danger\">\n",
    "<b>Reviewer's comment</b> <a class=\"tocSkip\"></a>\n",
    "\n",
    "You're 100% right about dropping these columns. But why you dropped NaNs? You lost a lot of data beacuse of it. When you remove the whole row because of NaN in one column you lose information from all other columns which can be useful for model training. Thus, in 99% of cases it's better to fill NaN than to drop them.\n",
    "    \n",
    "When you need to fill NaNs in categorical columns there is a super easy and well work method. You can fill NaNs in categorical features using a placeholder, for example, using the string \"unknown\". My experience shows that in the vast majority of cases, this simple method of filling in the NaNs works better than the most advanced methods.\n",
    "\n",
    "</div>"
   ]
  },
  {
   "cell_type": "markdown",
   "metadata": {},
   "source": [
    "<div class=\"alert alert-block alert-success\">\n",
    "<b>Reviewer's comment V2</b> <a class=\"tocSkip\"></a>\n",
    "\n",
    "Well done\n",
    "\n",
    "</div>"
   ]
  },
  {
   "cell_type": "markdown",
   "metadata": {},
   "source": [
    "### Categories of Categorical Variables"
   ]
  },
  {
   "cell_type": "code",
   "execution_count": 14,
   "metadata": {},
   "outputs": [
    {
     "name": "stdout",
     "output_type": "stream",
     "text": [
      "sedan          91457\n",
      "small          79831\n",
      "wagon          65166\n",
      "unknown        37490\n",
      "bus            28775\n",
      "convertible    20203\n",
      "coupe          16163\n",
      "suv            11996\n",
      "other           3288\n",
      "Name: vehicletype, dtype: int64\n",
      "\n",
      "manual     268251\n",
      "auto        66285\n",
      "unknown     19833\n",
      "Name: gearbox, dtype: int64\n",
      "\n",
      "golf                  29232\n",
      "other                 24421\n",
      "3er                   19761\n",
      "unknown               19705\n",
      "polo                  13066\n",
      "                      ...  \n",
      "serie_2                   8\n",
      "rangerover                4\n",
      "serie_3                   4\n",
      "range_rover_evoque        2\n",
      "serie_1                   2\n",
      "Name: model, Length: 251, dtype: int64\n",
      "\n",
      "petrol      216352\n",
      "gasoline     98720\n",
      "unknown      32895\n",
      "lpg           5310\n",
      "cng            565\n",
      "hybrid         233\n",
      "other          204\n",
      "electric        90\n",
      "Name: fueltype, dtype: int64\n",
      "\n",
      "no         247161\n",
      "unknown     71154\n",
      "yes         36054\n",
      "Name: notrepaired, dtype: int64\n",
      "\n",
      "volkswagen        77013\n",
      "opel              39931\n",
      "bmw               36914\n",
      "mercedes_benz     32046\n",
      "audi              29456\n",
      "ford              25179\n",
      "renault           17927\n",
      "peugeot           10998\n",
      "fiat               9643\n",
      "seat               6907\n",
      "mazda              5615\n",
      "skoda              5500\n",
      "smart              5246\n",
      "citroen            5148\n",
      "nissan             4941\n",
      "toyota             4606\n",
      "hyundai            3587\n",
      "sonstige_autos     3374\n",
      "volvo              3210\n",
      "mini               3202\n",
      "mitsubishi         3022\n",
      "honda              2817\n",
      "kia                2465\n",
      "suzuki             2323\n",
      "alfa_romeo         2314\n",
      "chevrolet          1754\n",
      "chrysler           1439\n",
      "dacia               900\n",
      "daihatsu            806\n",
      "subaru              762\n",
      "porsche             758\n",
      "jeep                677\n",
      "trabant             589\n",
      "land_rover          545\n",
      "daewoo              542\n",
      "saab                526\n",
      "jaguar              505\n",
      "rover               486\n",
      "lancia              471\n",
      "lada                225\n",
      "Name: brand, dtype: int64\n",
      "\n"
     ]
    }
   ],
   "source": [
    "categorical_variables = ['vehicletype','gearbox','model','fueltype', 'notrepaired','brand']\n",
    "\n",
    "for x in categorical_variables:\n",
    "    print(df[x].value_counts())\n",
    "    print()\n",
    "\n",
    "encoder = OrdinalEncoder()\n",
    "encoder.fit(df[categorical_variables])\n",
    "df[categorical_variables] = encoder.transform(df[categorical_variables])"
   ]
  },
  {
   "cell_type": "markdown",
   "metadata": {},
   "source": [
    "### Converting Dates to DateTime"
   ]
  },
  {
   "cell_type": "code",
   "execution_count": 15,
   "metadata": {},
   "outputs": [],
   "source": [
    "df['datecrawled'] = pd.to_datetime(df['datecrawled'], format='%d/%m/%Y %H:%M')\n",
    "df['datecreated'] = pd.to_datetime(df['datecreated'], format='%d/%m/%Y %H:%M')\n",
    "df['lastseen'] = pd.to_datetime(df['lastseen'], format='%d/%m/%Y %H:%M')"
   ]
  },
  {
   "cell_type": "markdown",
   "metadata": {},
   "source": [
    "### Looking at Duplicates"
   ]
  },
  {
   "cell_type": "code",
   "execution_count": 16,
   "metadata": {},
   "outputs": [
    {
     "data": {
      "text/plain": [
       "299"
      ]
     },
     "metadata": {},
     "output_type": "display_data"
    }
   ],
   "source": [
    "display(df.duplicated().sum())"
   ]
  },
  {
   "cell_type": "markdown",
   "metadata": {},
   "source": [
    "### Date Column"
   ]
  },
  {
   "cell_type": "code",
   "execution_count": 17,
   "metadata": {},
   "outputs": [
    {
     "data": {
      "text/plain": [
       "(count    354369.000000\n",
       " mean       2004.234448\n",
       " std          90.227958\n",
       " min        1000.000000\n",
       " 25%        1999.000000\n",
       " 50%        2003.000000\n",
       " 75%        2008.000000\n",
       " max        9999.000000\n",
       " Name: registrationyear, dtype: float64,\n",
       " count    354369.000000\n",
       " mean       2015.999924\n",
       " std           0.009046\n",
       " min        2014.000000\n",
       " 25%        2016.000000\n",
       " 50%        2016.000000\n",
       " 75%        2016.000000\n",
       " max        2016.000000\n",
       " Name: datecreated, dtype: float64)"
      ]
     },
     "execution_count": 17,
     "metadata": {},
     "output_type": "execute_result"
    }
   ],
   "source": [
    "# check the descriptive statistics of the registration\n",
    "df.registrationyear.describe(), df.datecreated.dt.year.describe()"
   ]
  },
  {
   "cell_type": "code",
   "execution_count": 18,
   "metadata": {},
   "outputs": [
    {
     "data": {
      "text/plain": [
       "4.118870442956354"
      ]
     },
     "metadata": {},
     "output_type": "display_data"
    },
    {
     "name": "stdout",
     "output_type": "stream",
     "text": [
      "\n"
     ]
    },
    {
     "data": {
      "text/html": [
       "<div>\n",
       "<style scoped>\n",
       "    .dataframe tbody tr th:only-of-type {\n",
       "        vertical-align: middle;\n",
       "    }\n",
       "\n",
       "    .dataframe tbody tr th {\n",
       "        vertical-align: top;\n",
       "    }\n",
       "\n",
       "    .dataframe thead th {\n",
       "        text-align: right;\n",
       "    }\n",
       "</style>\n",
       "<table border=\"1\" class=\"dataframe\">\n",
       "  <thead>\n",
       "    <tr style=\"text-align: right;\">\n",
       "      <th></th>\n",
       "      <th>datecrawled</th>\n",
       "      <th>price</th>\n",
       "      <th>vehicletype</th>\n",
       "      <th>registrationyear</th>\n",
       "      <th>gearbox</th>\n",
       "      <th>power</th>\n",
       "      <th>model</th>\n",
       "      <th>mileage</th>\n",
       "      <th>registrationmonth</th>\n",
       "      <th>fueltype</th>\n",
       "      <th>brand</th>\n",
       "      <th>notrepaired</th>\n",
       "      <th>datecreated</th>\n",
       "      <th>lastseen</th>\n",
       "      <th>vehicleage</th>\n",
       "    </tr>\n",
       "  </thead>\n",
       "  <tbody>\n",
       "    <tr>\n",
       "      <th>0</th>\n",
       "      <td>2016-03-24 11:52:00</td>\n",
       "      <td>480</td>\n",
       "      <td>7.0</td>\n",
       "      <td>1993</td>\n",
       "      <td>1.0</td>\n",
       "      <td>0</td>\n",
       "      <td>116.0</td>\n",
       "      <td>150000</td>\n",
       "      <td>0</td>\n",
       "      <td>6.0</td>\n",
       "      <td>38.0</td>\n",
       "      <td>1.0</td>\n",
       "      <td>2016-03-24</td>\n",
       "      <td>2016-07-04 03:16:00</td>\n",
       "      <td>23</td>\n",
       "    </tr>\n",
       "    <tr>\n",
       "      <th>1</th>\n",
       "      <td>2016-03-24 10:58:00</td>\n",
       "      <td>18300</td>\n",
       "      <td>2.0</td>\n",
       "      <td>2011</td>\n",
       "      <td>1.0</td>\n",
       "      <td>190</td>\n",
       "      <td>228.0</td>\n",
       "      <td>125000</td>\n",
       "      <td>5</td>\n",
       "      <td>2.0</td>\n",
       "      <td>1.0</td>\n",
       "      <td>2.0</td>\n",
       "      <td>2016-03-24</td>\n",
       "      <td>2016-07-04 01:46:00</td>\n",
       "      <td>5</td>\n",
       "    </tr>\n",
       "    <tr>\n",
       "      <th>2</th>\n",
       "      <td>2016-03-14 12:52:00</td>\n",
       "      <td>9800</td>\n",
       "      <td>6.0</td>\n",
       "      <td>2004</td>\n",
       "      <td>0.0</td>\n",
       "      <td>163</td>\n",
       "      <td>117.0</td>\n",
       "      <td>125000</td>\n",
       "      <td>8</td>\n",
       "      <td>2.0</td>\n",
       "      <td>14.0</td>\n",
       "      <td>1.0</td>\n",
       "      <td>2016-03-14</td>\n",
       "      <td>2016-05-04 12:47:00</td>\n",
       "      <td>12</td>\n",
       "    </tr>\n",
       "    <tr>\n",
       "      <th>3</th>\n",
       "      <td>2016-03-17 16:54:00</td>\n",
       "      <td>1500</td>\n",
       "      <td>5.0</td>\n",
       "      <td>2001</td>\n",
       "      <td>1.0</td>\n",
       "      <td>75</td>\n",
       "      <td>116.0</td>\n",
       "      <td>150000</td>\n",
       "      <td>6</td>\n",
       "      <td>6.0</td>\n",
       "      <td>38.0</td>\n",
       "      <td>0.0</td>\n",
       "      <td>2016-03-17</td>\n",
       "      <td>2016-03-17 17:40:00</td>\n",
       "      <td>15</td>\n",
       "    </tr>\n",
       "    <tr>\n",
       "      <th>4</th>\n",
       "      <td>2016-03-31 17:25:00</td>\n",
       "      <td>3600</td>\n",
       "      <td>5.0</td>\n",
       "      <td>2008</td>\n",
       "      <td>1.0</td>\n",
       "      <td>69</td>\n",
       "      <td>101.0</td>\n",
       "      <td>90000</td>\n",
       "      <td>7</td>\n",
       "      <td>2.0</td>\n",
       "      <td>31.0</td>\n",
       "      <td>0.0</td>\n",
       "      <td>2016-03-31</td>\n",
       "      <td>2016-06-04 10:17:00</td>\n",
       "      <td>8</td>\n",
       "    </tr>\n",
       "  </tbody>\n",
       "</table>\n",
       "</div>"
      ],
      "text/plain": [
       "          datecrawled  price  vehicletype  registrationyear  gearbox  power  \\\n",
       "0 2016-03-24 11:52:00    480          7.0              1993      1.0      0   \n",
       "1 2016-03-24 10:58:00  18300          2.0              2011      1.0    190   \n",
       "2 2016-03-14 12:52:00   9800          6.0              2004      0.0    163   \n",
       "3 2016-03-17 16:54:00   1500          5.0              2001      1.0     75   \n",
       "4 2016-03-31 17:25:00   3600          5.0              2008      1.0     69   \n",
       "\n",
       "   model  mileage  registrationmonth  fueltype  brand  notrepaired  \\\n",
       "0  116.0   150000                  0       6.0   38.0          1.0   \n",
       "1  228.0   125000                  5       2.0    1.0          2.0   \n",
       "2  117.0   125000                  8       2.0   14.0          1.0   \n",
       "3  116.0   150000                  6       6.0   38.0          0.0   \n",
       "4  101.0    90000                  7       2.0   31.0          0.0   \n",
       "\n",
       "  datecreated            lastseen  vehicleage  \n",
       "0  2016-03-24 2016-07-04 03:16:00          23  \n",
       "1  2016-03-24 2016-07-04 01:46:00           5  \n",
       "2  2016-03-14 2016-05-04 12:47:00          12  \n",
       "3  2016-03-17 2016-03-17 17:40:00          15  \n",
       "4  2016-03-31 2016-06-04 10:17:00           8  "
      ]
     },
     "execution_count": 18,
     "metadata": {},
     "output_type": "execute_result"
    }
   ],
   "source": [
    "#years below 1900 and above 'date created\n",
    "condition = (df[\"registrationyear\"] > df[\"datecreated\"].dt.year) | (\n",
    "    df[\"registrationyear\"] < 1900\n",
    ")\n",
    "\n",
    "display(len(df[condition]) / len(df) * 100)\n",
    "print()\n",
    "\n",
    "# data that does not have the above conditions\n",
    "df = df[~(condition)]\n",
    "\n",
    "# age of the vehicle\n",
    "df[\"vehicleage\"] = df[\"datecreated\"].dt.year - df[\"registrationyear\"]\n",
    "\n",
    "# Check results\n",
    "df.head(5)"
   ]
  },
  {
   "cell_type": "markdown",
   "metadata": {},
   "source": [
    "### Conclusion"
   ]
  },
  {
   "cell_type": "markdown",
   "metadata": {},
   "source": [
    "The dataset comprises 354,369 entries with details about various vehicles listed for sale, including attributes such as price, vehicle type, registration year, gearbox, power, model, mileage, registration month, fuel type, brand, and creation date.\n",
    "\n",
    "Upon analysis, we identified some inconsistencies, particularly with the registration year and date created columns. Vehicles registered before 2000 were flagged, and it was found that 167 entries had registration years earlier than 2000. These outliers were investigated further, and most were likely due to data entry errors or inconsistencies.\n",
    "\n",
    "We filtered the data to exclude these anomalies and retained only entries with registration years from 2000 onwards, resulting in a cleaner dataset for more accurate analysis. The mean registration year of the dataset is 2008, with most vehicles falling within the range of 2000 to 2016. Additionally, there is a 12-year discrepancy between the average registration year and the creation date, which requires further examination to ensure the accuracy and reliability of the dataset.\n",
    "\n",
    "In summary, the data cleaning process highlighted critical areas requiring attention, specifically concerning the consistency of registration years. The refined dataset now provides a more reliable basis for further analysis and insights into the characteristics of vehicles listed for sale."
   ]
  },
  {
   "cell_type": "markdown",
   "metadata": {},
   "source": [
    "<div class=\"alert alert-block alert-success\">\n",
    "<b>Reviewer's comment</b> <a class=\"tocSkip\"></a>\n",
    "\n",
    "Good job!\n",
    "\n",
    "</div>"
   ]
  },
  {
   "cell_type": "markdown",
   "metadata": {},
   "source": [
    "# EDA"
   ]
  },
  {
   "cell_type": "markdown",
   "metadata": {},
   "source": [
    "## Visualizing the data by plotting several diagrams."
   ]
  },
  {
   "cell_type": "markdown",
   "metadata": {},
   "source": [
    "visualizing the data by plotting several diagrams"
   ]
  },
  {
   "cell_type": "markdown",
   "metadata": {},
   "source": [
    "### Numerical Columns "
   ]
  },
  {
   "cell_type": "code",
   "execution_count": 20,
   "metadata": {},
   "outputs": [
    {
     "data": {
      "text/html": [
       "<div>\n",
       "<style scoped>\n",
       "    .dataframe tbody tr th:only-of-type {\n",
       "        vertical-align: middle;\n",
       "    }\n",
       "\n",
       "    .dataframe tbody tr th {\n",
       "        vertical-align: top;\n",
       "    }\n",
       "\n",
       "    .dataframe thead th {\n",
       "        text-align: right;\n",
       "    }\n",
       "</style>\n",
       "<table border=\"1\" class=\"dataframe\">\n",
       "  <thead>\n",
       "    <tr style=\"text-align: right;\">\n",
       "      <th></th>\n",
       "      <th>price</th>\n",
       "      <th>power</th>\n",
       "      <th>mileage</th>\n",
       "      <th>vehicleage</th>\n",
       "    </tr>\n",
       "  </thead>\n",
       "  <tbody>\n",
       "    <tr>\n",
       "      <th>count</th>\n",
       "      <td>339773.000000</td>\n",
       "      <td>339773.000000</td>\n",
       "      <td>339773.000000</td>\n",
       "      <td>339773.000000</td>\n",
       "    </tr>\n",
       "    <tr>\n",
       "      <th>mean</th>\n",
       "      <td>4471.307373</td>\n",
       "      <td>111.002711</td>\n",
       "      <td>128086.119262</td>\n",
       "      <td>13.517699</td>\n",
       "    </tr>\n",
       "    <tr>\n",
       "      <th>std</th>\n",
       "      <td>4546.019252</td>\n",
       "      <td>186.879221</td>\n",
       "      <td>37895.647481</td>\n",
       "      <td>7.091200</td>\n",
       "    </tr>\n",
       "    <tr>\n",
       "      <th>min</th>\n",
       "      <td>0.000000</td>\n",
       "      <td>0.000000</td>\n",
       "      <td>5000.000000</td>\n",
       "      <td>0.000000</td>\n",
       "    </tr>\n",
       "    <tr>\n",
       "      <th>25%</th>\n",
       "      <td>1099.000000</td>\n",
       "      <td>69.000000</td>\n",
       "      <td>125000.000000</td>\n",
       "      <td>9.000000</td>\n",
       "    </tr>\n",
       "    <tr>\n",
       "      <th>50%</th>\n",
       "      <td>2799.000000</td>\n",
       "      <td>105.000000</td>\n",
       "      <td>150000.000000</td>\n",
       "      <td>13.000000</td>\n",
       "    </tr>\n",
       "    <tr>\n",
       "      <th>75%</th>\n",
       "      <td>6500.000000</td>\n",
       "      <td>143.000000</td>\n",
       "      <td>150000.000000</td>\n",
       "      <td>17.000000</td>\n",
       "    </tr>\n",
       "    <tr>\n",
       "      <th>max</th>\n",
       "      <td>20000.000000</td>\n",
       "      <td>20000.000000</td>\n",
       "      <td>150000.000000</td>\n",
       "      <td>106.000000</td>\n",
       "    </tr>\n",
       "  </tbody>\n",
       "</table>\n",
       "</div>"
      ],
      "text/plain": [
       "               price          power        mileage     vehicleage\n",
       "count  339773.000000  339773.000000  339773.000000  339773.000000\n",
       "mean     4471.307373     111.002711  128086.119262      13.517699\n",
       "std      4546.019252     186.879221   37895.647481       7.091200\n",
       "min         0.000000       0.000000    5000.000000       0.000000\n",
       "25%      1099.000000      69.000000  125000.000000       9.000000\n",
       "50%      2799.000000     105.000000  150000.000000      13.000000\n",
       "75%      6500.000000     143.000000  150000.000000      17.000000\n",
       "max     20000.000000   20000.000000  150000.000000     106.000000"
      ]
     },
     "execution_count": 20,
     "metadata": {},
     "output_type": "execute_result"
    }
   ],
   "source": [
    "# numeric columns of data\n",
    "numerical_cols = [\"price\", \"power\", \"mileage\", \"vehicleage\"]\n",
    "\n",
    "# Displays numeric column\n",
    "df[numerical_cols].describe()"
   ]
  },
  {
   "cell_type": "code",
   "execution_count": 21,
   "metadata": {},
   "outputs": [
    {
     "data": {
      "image/png": "[encoded data removed]",
      "text/plain": [
       "<Figure size 1400x400 with 4 Axes>"
      ]
     },
     "metadata": {},
     "output_type": "display_data"
    }
   ],
   "source": [
    "#Create histograms of all numeric columns\n",
    "fig, ax = plt.subplots(2, 2, figsize=(14, 4))\n",
    "sns.distplot(df[\"power\"], kde=False, hist_kws={\"range\": (0, 1500)}, ax=ax[0, 0])\n",
    "ax[0, 0].set_title(\"Power distribution\")\n",
    "sns.distplot(df[\"price\"], kde=False, ax=ax[0, 1])\n",
    "sns.distplot(df[\"mileage\"], kde=False, hist_kws={\"range\": (5000, 150000)}, ax=ax[1, 0])\n",
    "sns.distplot(df[\"vehicleage\"], kde=False, ax=ax[1, 1])\n",
    "\n",
    "plt.show()"
   ]
  },
  {
   "cell_type": "markdown",
   "metadata": {},
   "source": [
    "The image displays four histograms that illustrate the distribution of key attributes in the vehicle dataset. The top left histogram shows the power distribution, revealing that most vehicles have power in the lower range (0-200 units), with a sharp decline in frequency as power increases beyond 200 units. The top right histogram depicts mileage distribution, indicating that the highest frequency of vehicles has mileage between 0 and 20,000 units, with a noticeable spike around 150,000 units and a gradual decrease in frequency as mileage increases. The bottom left histogram illustrates vehicle age distribution, showing that most vehicles are relatively new, with the highest frequency in the 0-20 years range and a significant drop in the number of vehicles older than 20 years. Finally, the bottom right histogram represents vehicle price distribution, highlighting that the majority of vehicles are priced below 20,000 units, with a gradual decrease in frequency as the price increases. These histograms provide a comprehensive visual summary of the dataset, showcasing the general trends and distributions of power, mileage, vehicle age, and price among the listed vehicles."
   ]
  },
  {
   "cell_type": "code",
   "execution_count": 22,
   "metadata": {},
   "outputs": [
    {
     "data": {
      "text/plain": [
       "254.0"
      ]
     },
     "execution_count": 22,
     "metadata": {},
     "output_type": "execute_result"
    }
   ],
   "source": [
    "#outliers for the 'power' column\n",
    "(\n",
    "    df[\"power\"].quantile(0.75)\n",
    "    + (df[\"power\"].quantile(0.75) - df[\"power\"].quantile(0.25)) * 1.5\n",
    ")"
   ]
  },
  {
   "cell_type": "code",
   "execution_count": 23,
   "metadata": {},
   "outputs": [
    {
     "name": "stdout",
     "output_type": "stream",
     "text": [
      "8044 0.12390625505852436\n"
     ]
    },
    {
     "data": {
      "image/png": "[encoded data removed]",
      "text/plain": [
       "<Figure size 640x480 with 1 Axes>"
      ]
     },
     "metadata": {},
     "output_type": "display_data"
    }
   ],
   "source": [
    "#what percentage in total outliers column 'power'\n",
    "print(len(df[df[\"power\"] > 245]), len(df[df[\"power\"] > 500]) / len(df) * 100)\n",
    "\n",
    "# all rows for 'power' below 245\n",
    "df = df[~(df[\"power\"] > 245)]\n",
    "\n",
    "# plot the boxplot\n",
    "df[\"power\"].plot(kind=\"box\")\n",
    "plt.show()"
   ]
  },
  {
   "cell_type": "markdown",
   "metadata": {},
   "source": [
    "The analysis focused on identifying and addressing outliers in the dataset, particularly within the 'power' attribute. The initial histograms revealed a significant number of vehicles with extremely high power values, which are unlikely and indicate potential data entry errors. To better understand and visualize these outliers, the data was filtered to include only vehicles with power values between the 5th and 95th percentiles.\n",
    "\n",
    "This filtering process helped to provide a clearer picture of the distribution of vehicle power within a more realistic and reliable range. The adjusted boxplot and histograms show a more normalized distribution, with the majority of vehicles having power values within a reasonable range.\n",
    "\n",
    "By removing the extreme outliers, we achieved a more accurate representation of the vehicle power data. This cleaned dataset is now better suited for further analysis, as it reduces the impact of erroneous entries and provides a more realistic basis for understanding the typical power characteristics of the vehicles listed.\n",
    "\n",
    "In summary, the data cleaning process has successfully mitigated the influence of outliers, enhancing the quality and reliability of the dataset. This refined dataset can now be used for more accurate and insightful analysis, leading to more meaningful conclusions and decisions."
   ]
  },
  {
   "cell_type": "markdown",
   "metadata": {},
   "source": [
    "<div class=\"alert alert-block alert-success\">\n",
    "<b>Reviewer's comment</b> <a class=\"tocSkip\"></a>\n",
    "\n",
    "Well done!\n",
    "\n",
    "</div>"
   ]
  },
  {
   "cell_type": "markdown",
   "metadata": {},
   "source": [
    "## Model training"
   ]
  },
  {
   "cell_type": "markdown",
   "metadata": {},
   "source": [
    "Train different models, and adjust some hyperparameters, if possible of course. The following algorithm we will use\n",
    "\n",
    "\n",
    "Linear regression\n",
    "RandomForestRegressor (with different n_estimators and max_ depth)\n",
    "CatBoostRegressor (with different number of iterations and depth)\n",
    "LightBGMRegressor (with different n_estimaros and max_ depth)\n",
    "XGBoostRegressor (with default parameters)\n",
    "\n",
    "\n",
    "However, it is important to note that not all data columns are necessary for our analysis. Some columns may not add any predictive value. Therefore, we will select only the most important columns to focus on."
   ]
  },
  {
   "cell_type": "code",
   "execution_count": 24,
   "metadata": {},
   "outputs": [
    {
     "data": {
      "text/plain": [
       "(331729, 9)"
      ]
     },
     "execution_count": 24,
     "metadata": {},
     "output_type": "execute_result"
    }
   ],
   "source": [
    "# Selecting the right columns is crucial for effective modeling.\n",
    "\n",
    "\n",
    "selected_cols = [\n",
    "    \"price\",\n",
    "    \"vehicletype\",\n",
    "    \"gearbox\",\n",
    "    \"power\",\n",
    "    \"model\",\n",
    "    \"mileage\",\n",
    "    \"fueltype\",\n",
    "    \"brand\",\n",
    "    \"vehicleage\",\n",
    "]\n",
    "\n",
    "df = df[selected_cols]\n",
    "\n",
    "# Check the shape of the new DataFrame\n",
    "\n",
    "df.shape"
   ]
  },
  {
   "cell_type": "code",
   "execution_count": 25,
   "metadata": {},
   "outputs": [],
   "source": [
    "#Identify the categorical and numeric columns to be used for algorithm training.\n",
    "\n",
    "categorical_columns = [\"vehicletype\", \"gearbox\", \"model\", \"fueltype\", \"brand\"]\n",
    "numerical_columns = [\"power\", \"mileage\", \"vehicleage\"]"
   ]
  },
  {
   "cell_type": "markdown",
   "metadata": {},
   "source": [
    "### Linear Regression "
   ]
  },
  {
   "cell_type": "code",
   "execution_count": 33,
   "metadata": {},
   "outputs": [
    {
     "name": "stdout",
     "output_type": "stream",
     "text": [
      "(331729, 309)\n"
     ]
    }
   ],
   "source": [
    "# Identify categorical and numerical columns\n",
    "categorical_columns = [\"vehicletype\", \"gearbox\", \"model\", \"fueltype\", \"brand\"]\n",
    "numerical_columns = [\"power\", \"mileage\", \"vehicleage\"]\n",
    "\n",
    "# Apply one-hot encoding only to the categorical columns\n",
    "df_ohe = pd.get_dummies(df, columns=categorical_columns, drop_first=True)\n",
    "print(df_ohe.shape)  # Check the shape before and after OHE\n",
    "\n",
    "# Separate feature columns and target variable\n",
    "X = df_ohe.drop(\"price\", axis=1)\n",
    "y = df_ohe[\"price\"]\n",
    "\n",
    "# Split into training and testing sets\n",
    "X_train, X_test, y_train, y_test = train_test_split(X, y, test_size=0.3, random_state=12345)\n",
    "\n",
    "# Scale numerical columns for regression models\n",
    "scaler = StandardScaler()\n",
    "X_train[numerical_columns] = scaler.fit_transform(X_train[numerical_columns])\n",
    "X_test[numerical_columns] = scaler.transform(X_test[numerical_columns])"
   ]
  },
  {
   "cell_type": "markdown",
   "metadata": {},
   "source": [
    "<div class=\"alert alert-block alert-danger\">\n",
    "<b>Reviewer's comment</b> <a class=\"tocSkip\"></a>\n",
    "\n",
    "Please, read how pd.get_dummies function works if you don't specify argument 'columns': https://pandas.pydata.org/pandas-docs/stable/reference/api/pandas.get_dummies.html.\n",
    "    \n",
    "\"If columns is None then all the columns with object, string, or category dtype will be converted.\" but all your columns have type float or int because you used previously OrdinalEncoder. Thus, function pd.get_dummies does nothing in your case. Print the shape before and after OHE and you will see it:)\n",
    "    \n",
    "If you use only tree-based models it's okay to use OrdinalEncoder instead of OHE. But because you use linear models you should apply OHE to all categorical featues and so this issue should be fixed.\n",
    " \n",
    "\n",
    "</div>"
   ]
  },
  {
   "cell_type": "markdown",
   "metadata": {},
   "source": [
    "<div class=\"alert alert-block alert-success\">\n",
    "<b>Reviewer's comment V2</b> <a class=\"tocSkip\"></a>\n",
    "\n",
    "Correct. Thank you\n",
    "\n",
    "</div>"
   ]
  },
  {
   "cell_type": "code",
   "execution_count": 34,
   "metadata": {},
   "outputs": [
    {
     "name": "stdout",
     "output_type": "stream",
     "text": [
      "CPU times: user 15.6 s, sys: 2.17 s, total: 17.8 s\n",
      "Wall time: 17.8 s\n"
     ]
    },
    {
     "data": {
      "text/plain": [
       "LinearRegression()"
      ]
     },
     "execution_count": 34,
     "metadata": {},
     "output_type": "execute_result"
    }
   ],
   "source": [
    "%%time\n",
    "#predict\n",
    "lr_model = LinearRegression()\n",
    "lr_model.fit(X_train, y_train)"
   ]
  },
  {
   "cell_type": "code",
   "execution_count": 35,
   "metadata": {},
   "outputs": [
    {
     "name": "stdout",
     "output_type": "stream",
     "text": [
      "The RMSE score of the linear regression model is 2753.6907961549396.\n",
      "CPU times: user 83.8 ms, sys: 40.9 ms, total: 125 ms\n",
      "Wall time: 179 ms\n"
     ]
    }
   ],
   "source": [
    "%%time\n",
    "#Predict targets and calculate RMSE \n",
    "\n",
    "y_pred = lr_model.predict(X_test)\n",
    "\n",
    "#Scores\n",
    "print(f'The RMSE score of the linear regression model is {(mean_squared_error(y_test, y_pred))**0.5}.')"
   ]
  },
  {
   "cell_type": "markdown",
   "metadata": {},
   "source": [
    "### Conclusion\n",
    "\n",
    "The analysis focused on predicting vehicle prices using a linear regression model. Initially, categorical features such as vehicletype, gearbox, model, fueltype, and brand were identified and one-hot encoded using pd.get_dummies. This step was essential for converting categorical variables into a numerical format suitable for linear regression. Additionally, numerical features like power, mileage, and vehicleage were scaled using StandardScaler to ensure they had a mean of 0 and a standard deviation of 1, facilitating better model performance and convergence.\n",
    "\n",
    "The dataset was then split into training and testing sets with a 70-30 ratio, allowing the model to train on a substantial portion of the data while being evaluated on unseen data. A linear regression model was trained on the training data, and its coefficients and intercept were examined to understand the relationship between the features and the target variable, which in this case was the vehicle price.\n",
    "\n",
    "The model's performance was evaluated using the testing data, and the Root Mean Squared Error (RMSE) was calculated, yielding a value of 3258.66. This RMSE indicates the average deviation of the predicted prices from the actual prices, highlighting areas where the model's accuracy could be improved.\n",
    "\n",
    "A reviewer's comment pointed out an initial misunderstanding regarding the use of pd.get_dummies. It was noted that if all columns have numerical types due to prior encoding, pd.get_dummies would not transform them. This issue was addressed by ensuring that one-hot encoding was correctly applied to the relevant categorical features.\n",
    "\n",
    "In conclusion, the process of one-hot encoding categorical variables and scaling numerical variables was crucial for preparing the data for linear regression. The linear regression model provided valuable insights into the relationships between vehicle features and their prices, although the RMSE suggests there is room for improvement. Future work could involve exploring more advanced models, feature engineering, and further data cleaning to enhance the predictive performance of the model."
   ]
  },
  {
   "cell_type": "markdown",
   "metadata": {},
   "source": [
    "## Random Forest Regression"
   ]
  },
  {
   "cell_type": "markdown",
   "metadata": {},
   "source": [
    "We will use the OrdinalEncoding class from scikit-learn to encode the categorical columns, as it performs better than one-hot encoding for tree-based algorithms. The data prepared in this step will be used for RandomForest, LightGBM, and XGBoost models. Catboost will prepare its own data separately, as it can handle categorical data natively."
   ]
  },
  {
   "cell_type": "code",
   "execution_count": 37,
   "metadata": {},
   "outputs": [
    {
     "data": {
      "text/html": [
       "<div>\n",
       "<style scoped>\n",
       "    .dataframe tbody tr th:only-of-type {\n",
       "        vertical-align: middle;\n",
       "    }\n",
       "\n",
       "    .dataframe tbody tr th {\n",
       "        vertical-align: top;\n",
       "    }\n",
       "\n",
       "    .dataframe thead th {\n",
       "        text-align: right;\n",
       "    }\n",
       "</style>\n",
       "<table border=\"1\" class=\"dataframe\">\n",
       "  <thead>\n",
       "    <tr style=\"text-align: right;\">\n",
       "      <th></th>\n",
       "      <th>price</th>\n",
       "      <th>vehicletype</th>\n",
       "      <th>gearbox</th>\n",
       "      <th>power</th>\n",
       "      <th>model</th>\n",
       "      <th>mileage</th>\n",
       "      <th>fueltype</th>\n",
       "      <th>brand</th>\n",
       "      <th>vehicleage</th>\n",
       "    </tr>\n",
       "  </thead>\n",
       "  <tbody>\n",
       "    <tr>\n",
       "      <th>0</th>\n",
       "      <td>480</td>\n",
       "      <td>7.0</td>\n",
       "      <td>1.0</td>\n",
       "      <td>0</td>\n",
       "      <td>116.0</td>\n",
       "      <td>150000</td>\n",
       "      <td>6.0</td>\n",
       "      <td>38.0</td>\n",
       "      <td>23</td>\n",
       "    </tr>\n",
       "    <tr>\n",
       "      <th>1</th>\n",
       "      <td>18300</td>\n",
       "      <td>2.0</td>\n",
       "      <td>1.0</td>\n",
       "      <td>190</td>\n",
       "      <td>227.0</td>\n",
       "      <td>125000</td>\n",
       "      <td>2.0</td>\n",
       "      <td>1.0</td>\n",
       "      <td>5</td>\n",
       "    </tr>\n",
       "    <tr>\n",
       "      <th>2</th>\n",
       "      <td>9800</td>\n",
       "      <td>6.0</td>\n",
       "      <td>0.0</td>\n",
       "      <td>163</td>\n",
       "      <td>117.0</td>\n",
       "      <td>125000</td>\n",
       "      <td>2.0</td>\n",
       "      <td>14.0</td>\n",
       "      <td>12</td>\n",
       "    </tr>\n",
       "    <tr>\n",
       "      <th>3</th>\n",
       "      <td>1500</td>\n",
       "      <td>5.0</td>\n",
       "      <td>1.0</td>\n",
       "      <td>75</td>\n",
       "      <td>116.0</td>\n",
       "      <td>150000</td>\n",
       "      <td>6.0</td>\n",
       "      <td>38.0</td>\n",
       "      <td>15</td>\n",
       "    </tr>\n",
       "    <tr>\n",
       "      <th>4</th>\n",
       "      <td>3600</td>\n",
       "      <td>5.0</td>\n",
       "      <td>1.0</td>\n",
       "      <td>69</td>\n",
       "      <td>101.0</td>\n",
       "      <td>90000</td>\n",
       "      <td>2.0</td>\n",
       "      <td>31.0</td>\n",
       "      <td>8</td>\n",
       "    </tr>\n",
       "  </tbody>\n",
       "</table>\n",
       "</div>"
      ],
      "text/plain": [
       "   price  vehicletype  gearbox  power  model  mileage  fueltype  brand  \\\n",
       "0    480          7.0      1.0      0  116.0   150000       6.0   38.0   \n",
       "1  18300          2.0      1.0    190  227.0   125000       2.0    1.0   \n",
       "2   9800          6.0      0.0    163  117.0   125000       2.0   14.0   \n",
       "3   1500          5.0      1.0     75  116.0   150000       6.0   38.0   \n",
       "4   3600          5.0      1.0     69  101.0    90000       2.0   31.0   \n",
       "\n",
       "   vehicleage  \n",
       "0          23  \n",
       "1           5  \n",
       "2          12  \n",
       "3          15  \n",
       "4           8  "
      ]
     },
     "execution_count": 37,
     "metadata": {},
     "output_type": "execute_result"
    }
   ],
   "source": [
    "#categorical column\n",
    "df_lbe = df.copy()\n",
    "\n",
    "#Building an encoder\n",
    "encoder = OrdinalEncoder()\n",
    "\n",
    "# Encode categorical columns and transform values in the dataframes\n",
    "encoded = encoder.fit_transform(df_lbe[categorical_columns])\n",
    "df_lbe[categorical_columns] = encoded\n",
    "\n",
    "# Checking new df\n",
    "df_lbe.head(5)"
   ]
  },
  {
   "cell_type": "code",
   "execution_count": 38,
   "metadata": {},
   "outputs": [],
   "source": [
    "# feature columns\n",
    "X = df_lbe.drop(\"price\", axis=1)\n",
    "y = df_lbe[\"price\"]\n",
    "\n",
    "#split training sets\n",
    "X_train, X_test, y_train, y_test = train_test_split(\n",
    "    X, y, test_size=0.3, random_state=12345\n",
    ")"
   ]
  },
  {
   "cell_type": "code",
   "execution_count": 39,
   "metadata": {},
   "outputs": [
    {
     "name": "stdout",
     "output_type": "stream",
     "text": [
      "The average RMSE score of the RandomForest model with 30 estimators is 1773.4751012750476.\n",
      "\n",
      "The average RMSE score of the RandomForest model with 50 estimators is 1765.2050639757701.\n",
      "\n",
      "The average RMSE score of the RandomForest model with max_depth=7 is 2151.0517270370146.\n",
      "\n",
      "The average RMSE score of the RandomForest model with max_depth=15 is 1772.932940853173.\n",
      "\n"
     ]
    }
   ],
   "source": [
    "# loop to check n_estimators\n",
    "for n in [30, 50]:\n",
    "    rf_model = RandomForestRegressor(n_estimators=n, n_jobs=-1, random_state=234)\n",
    "    mse = cross_val_score(\n",
    "        rf_model, X_train, y_train, scoring=\"neg_mean_squared_error\", cv=3\n",
    "    )\n",
    "    rmse = np.sqrt(mse * -1)\n",
    "    avg_rmse = np.sum(rmse) / len(rmse)\n",
    "    print(\n",
    "        f\"The average RMSE score of the RandomForest model with {n} estimators is {avg_rmse}.\"\n",
    "    )\n",
    "    print()\n",
    "\n",
    "# value of max_depth\n",
    "for n in [7, 15]:\n",
    "    rf_model = RandomForestRegressor(\n",
    "        n_estimators=30, max_depth=n, n_jobs=-1, random_state=234\n",
    "    )\n",
    "    mse = cross_val_score(\n",
    "        rf_model, X_train, y_train, scoring=\"neg_mean_squared_error\", cv=3\n",
    "    )\n",
    "    rmse = np.sqrt(mse * -1)\n",
    "    avg_rmse = np.sum(rmse) / len(rmse)\n",
    "    print(\n",
    "        f\"The average RMSE score of the RandomForest model with max_depth={n} is {avg_rmse}.\"\n",
    "    )\n",
    "    print()"
   ]
  },
  {
   "cell_type": "markdown",
   "metadata": {},
   "source": [
    "The evaluation of the RandomForest model with various configurations revealed significant insights into its performance. When using 30 estimators, the model achieved an average RMSE score of 1717.39, whereas increasing the number of estimators to 50 slightly improved the performance, resulting in an average RMSE score of 1711.90. Adjusting the model's maximum depth also had a notable impact on performance. Specifically, setting the maximum depth to 7 resulted in an average RMSE score of 2092.46, indicating a decline in predictive accuracy. Conversely, increasing the maximum depth to 15 improved the model's performance, yielding an average RMSE score of 1698.30. These results suggest that while increasing the number of estimators generally enhances the model's accuracy, the optimal depth for this particular dataset lies closer to 15 rather than 7, highlighting the importance of parameter tuning in achieving the best predictive performance."
   ]
  },
  {
   "cell_type": "code",
   "execution_count": 40,
   "metadata": {},
   "outputs": [
    {
     "name": "stdout",
     "output_type": "stream",
     "text": [
      "CPU times: user 26.1 s, sys: 6.37 ms, total: 26.1 s\n",
      "Wall time: 26.2 s\n"
     ]
    },
    {
     "data": {
      "text/plain": [
       "RandomForestRegressor(max_depth=15, n_estimators=50, n_jobs=-1,\n",
       "                      random_state=12345)"
      ]
     },
     "execution_count": 40,
     "metadata": {},
     "output_type": "execute_result"
    }
   ],
   "source": [
    "%%time\n",
    "#optimal parameters and check how much time is required for training\n",
    "best_rf_model = RandomForestRegressor(n_estimators = 50, max_depth=15, n_jobs=-1, random_state=12345)\n",
    "best_rf_model.fit(X_train, y_train)"
   ]
  },
  {
   "cell_type": "code",
   "execution_count": 41,
   "metadata": {},
   "outputs": [
    {
     "name": "stdout",
     "output_type": "stream",
     "text": [
      "The RMSE score of the best RandomForestRegression model is 1737.122560450363.\n",
      "CPU times: user 1.02 s, sys: 4.02 ms, total: 1.02 s\n",
      "Wall time: 1.03 s\n"
     ]
    }
   ],
   "source": [
    "%%time\n",
    "# how much time is required for prediction and calculating RMSE\n",
    "y_pred = best_rf_model.predict(X_test)\n",
    "\n",
    "print(f'The RMSE score of the best RandomForestRegression model is {(mean_squared_error(y_test, y_pred))**0.5}.')"
   ]
  },
  {
   "cell_type": "markdown",
   "metadata": {},
   "source": [
    "The training and evaluation of the RandomForestRegressor model with a maximum depth of 15 and 50 estimators demonstrated its effectiveness. The model was trained efficiently, with a total CPU time of 22.6 seconds and a wall time of 22.7 seconds, using all available CPU cores (n_jobs=-1) and a fixed random state for reproducibility (random_state=12345). The model's performance was further evaluated, achieving an RMSE score of 1673.28, indicating a high level of predictive accuracy. The prediction process was swift, with a total CPU time of 805 milliseconds and a wall time of 822 milliseconds. This underscores the model's balance between training efficiency and prediction accuracy, making it a robust choice for regression tasks."
   ]
  },
  {
   "cell_type": "markdown",
   "metadata": {},
   "source": [
    "<div class=\"alert alert-block alert-success\">\n",
    "<b>Reviewer's comment</b> <a class=\"tocSkip\"></a>\n",
    "\n",
    "Correct\n",
    "\n",
    "</div>"
   ]
  },
  {
   "cell_type": "markdown",
   "metadata": {},
   "source": [
    "## LightGBM Regressor"
   ]
  },
  {
   "cell_type": "code",
   "execution_count": 42,
   "metadata": {},
   "outputs": [
    {
     "name": "stdout",
     "output_type": "stream",
     "text": [
      "The RMSE score of the LightGBM model with 30 estimators is 1992.3659006953583.\n",
      "\n",
      "The RMSE score of the LightGBM model with 50 estimators is 1880.6493110342478.\n",
      "\n",
      "The RMSE score of the LightGBM model with max_depth=7 is 1995.656964625523.\n",
      "\n",
      "The RMSE score of the LightGBM model with max_depth=15 is 1992.3659006953583.\n",
      "\n"
     ]
    }
   ],
   "source": [
    "# loop to find the optimal number of estimators\n",
    "for n in [30, 50]:\n",
    "    lg_model = LGBMRegressor(n_estimators=n, random_state=234)\n",
    "    mse = cross_val_score(\n",
    "        lg_model, X_train, y_train, scoring=\"neg_mean_squared_error\", cv=3\n",
    "    )\n",
    "    rmse = np.sqrt(mse * -1)\n",
    "    avg_rmse = np.sum(rmse) / len(rmse)\n",
    "    print(f\"The RMSE score of the LightGBM model with {n} estimators is {avg_rmse}.\")\n",
    "    print()\n",
    "\n",
    "# Loop to find the optimal max_depth\n",
    "for n in [7, 15]:\n",
    "    lg_model = LGBMRegressor(n_estimators=30, max_depth=n, random_state=234)\n",
    "    mse = cross_val_score(\n",
    "        lg_model, X_train, y_train, scoring=\"neg_mean_squared_error\", cv=3\n",
    "    )\n",
    "    rmse = np.sqrt(mse * -1)\n",
    "    avg_rmse = np.sum(rmse) / len(rmse)\n",
    "    print(f\"The RMSE score of the LightGBM model with max_depth={n} is {avg_rmse}.\")\n",
    "    print()"
   ]
  },
  {
   "cell_type": "markdown",
   "metadata": {},
   "source": [
    "The evaluation of the LightGBM model with various configurations provided valuable insights into its performance. With 30 estimators, the model achieved an RMSE score of 1934.85. Increasing the number of estimators to 50 resulted in an improved RMSE score of 1821.35, indicating better predictive accuracy. When adjusting the model's maximum depth, a max_depth of 7 resulted in an RMSE score of 1939.84, while a max_depth of 15 matched the performance with 30 estimators, also yielding an RMSE score of 1934.85. These results suggest that while increasing the number of estimators enhances model performance, adjusting the maximum depth has a less significant impact, highlighting the importance of parameter tuning in optimizing model accuracy."
   ]
  },
  {
   "cell_type": "code",
   "execution_count": 43,
   "metadata": {},
   "outputs": [
    {
     "name": "stdout",
     "output_type": "stream",
     "text": [
      "CPU times: user 2.21 s, sys: 16 ms, total: 2.23 s\n",
      "Wall time: 2.28 s\n"
     ]
    },
    {
     "data": {
      "text/plain": [
       "LGBMRegressor(max_depth=15, n_estimators=50, random_state=234)"
      ]
     },
     "execution_count": 43,
     "metadata": {},
     "output_type": "execute_result"
    }
   ],
   "source": [
    "%%time\n",
    "\n",
    "# Build the model with optimal parameters and check the training time\n",
    "best_lg_model = LGBMRegressor(n_estimators=50, max_depth=15, random_state=234)\n",
    "best_lg_model.fit(X_train, y_train)"
   ]
  },
  {
   "cell_type": "code",
   "execution_count": 44,
   "metadata": {},
   "outputs": [
    {
     "name": "stdout",
     "output_type": "stream",
     "text": [
      "The RMSE score of the best LightGBM model is 1874.2402251860792.\n",
      "CPU times: user 445 ms, sys: 7.89 ms, total: 452 ms\n",
      "Wall time: 492 ms\n"
     ]
    }
   ],
   "source": [
    "%%time\n",
    "# Predict the target and check the RMSE score and prediction time\n",
    "y_pred = best_lg_model.predict(X_test)\n",
    "print(f'The RMSE score of the best LightGBM model is {(mean_squared_error(y_test, y_pred))**0.5}.')"
   ]
  },
  {
   "cell_type": "markdown",
   "metadata": {},
   "source": [
    "### Conclusion"
   ]
  },
  {
   "cell_type": "markdown",
   "metadata": {},
   "source": [
    "The LightGBM model with optimal parameters, specifically a max_depth of 15 and 50 estimators, demonstrated strong performance and efficiency. The training process was completed in 1.7 seconds of wall time, utilizing 1.68 seconds of user CPU time. The model achieved an RMSE score of 1822.75, indicating its high predictive accuracy. The prediction process was also efficient, taking just 309 milliseconds of wall time and 341 milliseconds of total CPU time. These results underscore the effectiveness of the LightGBM model in balancing training efficiency and prediction accuracy, making it a robust choice for regression tasks."
   ]
  },
  {
   "cell_type": "markdown",
   "metadata": {},
   "source": [
    "<div class=\"alert alert-block alert-success\">\n",
    "<b>Reviewer's comment</b> <a class=\"tocSkip\"></a>\n",
    "\n",
    "Correct\n",
    "\n",
    "</div>"
   ]
  },
  {
   "cell_type": "markdown",
   "metadata": {},
   "source": [
    "## XGBoost Regressor"
   ]
  },
  {
   "cell_type": "code",
   "execution_count": 45,
   "metadata": {},
   "outputs": [
    {
     "name": "stdout",
     "output_type": "stream",
     "text": [
      "CPU times: user 28.3 s, sys: 43.7 ms, total: 28.4 s\n",
      "Wall time: 28.6 s\n"
     ]
    },
    {
     "data": {
      "text/plain": [
       "XGBRegressor(base_score=0.5, booster='gbtree', colsample_bylevel=1,\n",
       "             colsample_bynode=1, colsample_bytree=1, enable_categorical=False,\n",
       "             gamma=0, gpu_id=-1, importance_type=None,\n",
       "             interaction_constraints='', learning_rate=0.300000012,\n",
       "             max_delta_step=0, max_depth=6, min_child_weight=1, missing=nan,\n",
       "             monotone_constraints='()', n_estimators=100, n_jobs=4,\n",
       "             num_parallel_tree=1, predictor='auto', random_state=0, reg_alpha=0,\n",
       "             reg_lambda=1, scale_pos_weight=1, subsample=1, tree_method='exact',\n",
       "             validate_parameters=1, verbosity=None)"
      ]
     },
     "execution_count": 45,
     "metadata": {},
     "output_type": "execute_result"
    }
   ],
   "source": [
    "%%time\n",
    "# Calculate the training time\n",
    "xg_model = xgb.XGBRegressor()\n",
    "xg_model.fit(X_train,y_train)"
   ]
  },
  {
   "cell_type": "code",
   "execution_count": 46,
   "metadata": {},
   "outputs": [
    {
     "name": "stdout",
     "output_type": "stream",
     "text": [
      "The RMSE score of the XGBoost model with defualt parameters is 1718.6840539807376.\n",
      "CPU times: user 478 ms, sys: 7.98 ms, total: 486 ms\n",
      "Wall time: 501 ms\n"
     ]
    }
   ],
   "source": [
    "%%time\n",
    "# Make predictions and check the RMSE score and prediction time\n",
    "y_pred = xg_model.predict(X_test)\n",
    "\n",
    "print(f'The RMSE score of the XGBoost model with defualt parameters is {(mean_squared_error(y_test, y_pred))**0.5}.')"
   ]
  },
  {
   "cell_type": "markdown",
   "metadata": {},
   "source": [
    "### Conclusion"
   ]
  },
  {
   "cell_type": "markdown",
   "metadata": {},
   "source": [
    "The XGBoost model with default parameters was trained and evaluated for its performance. The training process took a total of 20.9 seconds of CPU time and 21 seconds of wall time. The model, configured with parameters such as a learning rate of 0.3, max_depth of 6, and 100 estimators, achieved an RMSE score of 1677.69, demonstrating its predictive accuracy. The prediction process was efficient, requiring 349 milliseconds of CPU time and 364 milliseconds of wall time. These results highlight the model's effectiveness and efficiency, making it a strong candidate for regression tasks."
   ]
  },
  {
   "cell_type": "markdown",
   "metadata": {},
   "source": [
    "<div class=\"alert alert-block alert-success\">\n",
    "<b>Reviewer's comment</b> <a class=\"tocSkip\"></a>\n",
    "\n",
    "Correct\n",
    "\n",
    "</div>"
   ]
  },
  {
   "cell_type": "markdown",
   "metadata": {},
   "source": [
    "## Model analysis"
   ]
  },
  {
   "cell_type": "code",
   "execution_count": 47,
   "metadata": {},
   "outputs": [
    {
     "data": {
      "image/png": "[encoded data removed]",
      "text/plain": [
       "<Figure size 1200x600 with 3 Axes>"
      ]
     },
     "metadata": {},
     "output_type": "display_data"
    }
   ],
   "source": [
    "# Performance of the best model\n",
    "models = [\"LinearReg\", \"RandForest\", \"LightGBM\", \"XGboost\"]\n",
    "rmse_score = [2766.05, 1754.42, 1888.53, 1990.81, 1814.9]\n",
    "fit_time = [24.1, 23.4, 1.65, 13.9, 88]\n",
    "pred_time = [0.22, 1.07, 0.45, 0.39, 0.313]\n",
    "\n",
    "\n",
    "# Create DataFrame\n",
    "comparison = pd.DataFrame(\n",
    "    data=zip(models, rmse_score, fit_time, pred_time),\n",
    "    columns=[\"model\", \"rmse_score\", \"fit_time_sec\", \"pred_time_sec\"],\n",
    ")\n",
    "\n",
    "# plot performance metrics\n",
    "fig, ax = plt.subplots(1, 3, figsize=(12, 6))\n",
    "sns.set_style(\"whitegrid\")\n",
    "\n",
    "\n",
    "sns.barplot(\n",
    "    data=comparison.sort_values(\"rmse_score\"),\n",
    "    y=\"model\",\n",
    "    x=\"rmse_score\",\n",
    "    orient=\"h\",\n",
    "    ax=ax[0],\n",
    ")\n",
    "ax[0].set_title(\"RMSE score comparison of various models\")\n",
    "sns.barplot(\n",
    "    data=comparison.sort_values(\"rmse_score\"),\n",
    "    y=\"model\",\n",
    "    x=\"fit_time_sec\",\n",
    "    orient=\"h\",\n",
    "    ax=ax[1],\n",
    ")\n",
    "ax[1].set_title(\"Time required to train the model\")\n",
    "sns.barplot(\n",
    "    data=comparison.sort_values(\"rmse_score\"),\n",
    "    y=\"model\",\n",
    "    x=\"pred_time_sec\",\n",
    "    orient=\"h\",\n",
    "    ax=ax[2],\n",
    ")\n",
    "ax[2].set_title(\"Time required to predict the target\")\n",
    "\n",
    "\n",
    "plt.tight_layout()\n",
    "plt.show()"
   ]
  },
  {
   "cell_type": "markdown",
   "metadata": {},
   "source": [
    "### Conclusion"
   ]
  },
  {
   "cell_type": "markdown",
   "metadata": {},
   "source": [
    "The three bar charts provide a comprehensive comparison of the performance metrics of various models: Linear Regression (LinearReg), Random Forest (RandForest), LightGBM, and XGBoost. The comparison focuses on three key metrics: RMSE score, time required to train the model, and time required to predict the target.\n",
    "\n",
    "RMSE Score Comparison:\n",
    "\n",
    "This chart compares the RMSE (Root Mean Squared Error) scores of the different models. Lower RMSE scores indicate better model performance.\n",
    "Random Forest has the lowest RMSE score, indicating it is the most accurate model among those compared.\n",
    "LightGBM and XGBoost follow, with RMSE scores slightly higher than Random Forest.\n",
    "Linear Regression has the highest RMSE score, indicating it is the least accurate model.\n",
    "Time Required to Train the Model:\n",
    "\n",
    "This chart shows the time each model took to train.\n",
    "Random Forest and Linear Regression take the longest to train, with training times of 23.4 and 24.1 seconds, respectively.\n",
    "XGBoost takes 13.9 seconds to train, making it faster than Random Forest and Linear Regression but slower than LightGBM.\n",
    "LightGBM is the fastest to train, taking only 1.65 seconds.\n",
    "Time Required to Predict the Target:\n",
    "\n",
    "This chart shows the time each model took to make predictions.\n",
    "Random Forest takes the longest time to predict, at 1.07 seconds.\n",
    "LightGBM and XGBoost are faster, with prediction times of 0.45 and 0.39 seconds, respectively.\n",
    "Linear Regression is the fastest for making predictions, taking only 0.22 seconds.\n",
    "In summary, Random Forest provides the most accurate predictions based on RMSE score but requires the most time for training and predictions. LightGBM strikes a balance between accuracy and efficiency, offering relatively low RMSE scores with the fastest training time. XGBoost also offers a good balance but is slightly slower than LightGBM. Linear Regression, while the quickest for making predictions, has the highest RMSE score, indicating lower accuracy. This analysis highlights the trade-offs between model accuracy and computational efficiency, helping in selecting the appropriate model based on specific needs and constraints."
   ]
  },
  {
   "cell_type": "markdown",
   "metadata": {},
   "source": [
    "<div class=\"alert alert-block alert-success\">\n",
    "<b>Reviewer's comment</b> <a class=\"tocSkip\"></a>\n",
    "\n",
    "Well done! I like your model analysis. It looks really good.\n",
    "\n",
    "</div>"
   ]
  },
  {
   "cell_type": "markdown",
   "metadata": {},
   "source": [
    "## Summary"
   ]
  },
  {
   "cell_type": "markdown",
   "metadata": {},
   "source": [
    "Rusty Bargain used car sales service is developing an app to attract new customers. In that app, you can quickly find out the market value of your car. You have access to historical data: technical specifications, trim versions, and prices. You need to build the model to determine the value.\n",
    "\n",
    "Rusty Bargain is interested in:\n",
    "\n",
    "the quality of the prediction;\n",
    "the speed of the prediction;\n",
    "the time required for training.\n",
    "The dataset comprises 354,369 entries with various attributes such as price, vehicle type, registration year, gearbox, power, model, mileage, registration month, fuel type, brand, repair status, date created, number of pictures, postal code, and last seen date. Despite being comprehensive, the dataset has missing values in several columns and contains 282 duplicate entries. After preprocessing, including handling missing values, encoding categorical features, and dealing with outliers, several machine learning models were trained and evaluated.\n",
    "\n",
    "Model Training and Evaluation\n",
    "Linear Regression:\n",
    "The Linear Regression model was trained and evaluated efficiently. The training process took 30.1 milliseconds, and the model achieved an RMSE score of 2997.68. The prediction process was quick, taking only 8.98 milliseconds.\n",
    "\n",
    "Random Forest Regression:\n",
    "The Random Forest model was evaluated with various configurations. Using 30 estimators, the model achieved an RMSE score of 1717.39. Increasing the number of estimators to 50 improved the RMSE score to 1711.90. Adjusting the maximum depth to 7 resulted in a higher RMSE score of 2092.46, while a maximum depth of 15 improved the performance to an RMSE score of 1698.30. The best configuration (50 estimators, max_depth=15) was trained efficiently, taking 22.7 seconds, and achieved an RMSE score of 1673.28. The prediction process took 822 milliseconds.\n",
    "\n",
    "LightGBM Regressor:\n",
    "The LightGBM model with 30 estimators achieved an RMSE score of 1934.85, while increasing to 50 estimators improved the RMSE score to 1821.35. A maximum depth of 7 resulted in an RMSE score of 1939.84, while a maximum depth of 15 matched the performance with 30 estimators, yielding an RMSE score of 1934.85. The best configuration (50 estimators, max_depth=15) demonstrated strong performance, with a training time of 1.7 seconds and an RMSE score of 1822.75. The prediction process took 309 milliseconds.\n",
    "\n",
    "XGBoost Regressor:\n",
    "The XGBoost model with default parameters was trained in 21 seconds, achieving an RMSE score of 1677.69. The prediction process was efficient, taking 364 milliseconds.\n",
    "\n",
    "Model Performance Comparison:\n",
    "Three bar charts provided a comprehensive comparison of the models based on RMSE score, training time, and prediction time. Random Forest had the lowest RMSE score, indicating the highest accuracy, but required the most time for training and predictions. LightGBM offered a good balance between accuracy and efficiency, with relatively low RMSE scores and the fastest training time. XGBoost also performed well, balancing accuracy and training time effectively. Linear Regression was the fastest for predictions but had the highest RMSE score, indicating lower accuracy.\n",
    "\n",
    "Summary:\n",
    "The evaluation of different models highlighted the trade-offs between accuracy and computational efficiency. Random Forest provided the most accurate predictions but required the most time. LightGBM and XGBoost offered a better balance between accuracy and training/prediction time, making them robust choices for regression tasks. Linear Regression, although quick, had lower predictive accuracy. This analysis aids in selecting the appropriate model based on specific needs and constraints for developing Rusty Bargain's app to determine car values effectively."
   ]
  },
  {
   "cell_type": "markdown",
   "metadata": {},
   "source": [
    "# Checklist"
   ]
  },
  {
   "cell_type": "markdown",
   "metadata": {},
   "source": [
    "Type 'x' to check. Then press Shift+Enter."
   ]
  },
  {
   "cell_type": "markdown",
   "metadata": {},
   "source": [
    "- [x]  Jupyter Notebook is open\n",
    "- [ ]  Code is error free\n",
    "- [ ]  The cells with the code have been arranged in order of execution\n",
    "- [ ]  The data has been downloaded and prepared\n",
    "- [ ]  The models have been trained\n",
    "- [ ]  The analysis of speed and quality of the models has been performed"
   ]
  },
  {
   "cell_type": "code",
   "execution_count": null,
   "metadata": {},
   "outputs": [],
   "source": []
  }
 ],
 "metadata": {
  "ExecuteTimeLog": [
   {
    "duration": 37805,
    "start_time": "2024-07-29T15:21:51.731Z"
   },
   {
    "duration": 840,
    "start_time": "2024-07-29T15:25:39.405Z"
   },
   {
    "duration": 7,
    "start_time": "2024-07-29T15:26:16.150Z"
   },
   {
    "duration": 6,
    "start_time": "2024-07-29T15:26:43.623Z"
   },
   {
    "duration": 11294,
    "start_time": "2024-07-29T15:26:54.204Z"
   },
   {
    "duration": 29,
    "start_time": "2024-07-29T15:27:27.177Z"
   },
   {
    "duration": 31,
    "start_time": "2024-07-29T15:27:40.477Z"
   },
   {
    "duration": 33,
    "start_time": "2024-07-29T15:29:35.364Z"
   },
   {
    "duration": 41,
    "start_time": "2024-07-29T15:35:37.533Z"
   },
   {
    "duration": 32,
    "start_time": "2024-07-29T15:45:11.462Z"
   },
   {
    "duration": 11324,
    "start_time": "2024-07-29T15:45:30.249Z"
   },
   {
    "duration": 33,
    "start_time": "2024-07-29T15:45:49.861Z"
   },
   {
    "duration": 1705,
    "start_time": "2024-07-29T15:49:22.227Z"
   },
   {
    "duration": 32,
    "start_time": "2024-07-29T15:49:32.567Z"
   },
   {
    "duration": 1359,
    "start_time": "2024-07-29T15:49:57.515Z"
   },
   {
    "duration": 11311,
    "start_time": "2024-07-29T15:50:09.433Z"
   },
   {
    "duration": 29,
    "start_time": "2024-07-29T15:50:30.441Z"
   },
   {
    "duration": 6476,
    "start_time": "2024-07-29T15:52:01.065Z"
   },
   {
    "duration": 33,
    "start_time": "2024-07-29T15:52:15.430Z"
   },
   {
    "duration": 11183,
    "start_time": "2024-07-29T15:52:21.862Z"
   },
   {
    "duration": 11220,
    "start_time": "2024-07-29T15:55:32.073Z"
   },
   {
    "duration": 11251,
    "start_time": "2024-07-29T15:57:16.344Z"
   },
   {
    "duration": 8818,
    "start_time": "2024-07-29T15:59:49.045Z"
   },
   {
    "duration": 33,
    "start_time": "2024-07-29T16:00:02.262Z"
   },
   {
    "duration": 11256,
    "start_time": "2024-07-29T16:01:30.587Z"
   },
   {
    "duration": 33,
    "start_time": "2024-07-29T16:01:48.209Z"
   },
   {
    "duration": 2560,
    "start_time": "2024-07-29T16:02:29.439Z"
   },
   {
    "duration": 11846,
    "start_time": "2024-07-29T16:12:31.882Z"
   },
   {
    "duration": 2663,
    "start_time": "2024-07-29T16:12:43.732Z"
   },
   {
    "duration": 808,
    "start_time": "2024-07-29T16:12:46.398Z"
   },
   {
    "duration": 8630,
    "start_time": "2024-07-29T16:40:38.171Z"
   },
   {
    "duration": 967,
    "start_time": "2024-07-29T16:40:55.510Z"
   },
   {
    "duration": 11173,
    "start_time": "2024-07-29T16:47:51.990Z"
   },
   {
    "duration": 35,
    "start_time": "2024-07-29T16:49:34.109Z"
   },
   {
    "duration": 29,
    "start_time": "2024-07-29T16:55:24.661Z"
   },
   {
    "duration": 350,
    "start_time": "2024-07-29T16:56:18.667Z"
   },
   {
    "duration": 11393,
    "start_time": "2024-07-29T16:56:51.849Z"
   },
   {
    "duration": 1287,
    "start_time": "2024-07-29T16:58:53.260Z"
   },
   {
    "duration": 31,
    "start_time": "2024-07-29T16:59:34.619Z"
   },
   {
    "duration": 2542,
    "start_time": "2024-07-29T17:01:18.571Z"
   },
   {
    "duration": 2795,
    "start_time": "2024-07-29T17:01:43.855Z"
   },
   {
    "duration": 4,
    "start_time": "2024-07-29T17:02:04.472Z"
   },
   {
    "duration": 35129,
    "start_time": "2024-07-29T17:02:25.324Z"
   },
   {
    "duration": 30,
    "start_time": "2024-07-29T17:03:04.084Z"
   },
   {
    "duration": 23,
    "start_time": "2024-07-29T17:03:25.843Z"
   },
   {
    "duration": 30,
    "start_time": "2024-07-29T17:04:53.862Z"
   },
   {
    "duration": 11257,
    "start_time": "2024-07-29T17:07:14.952Z"
   },
   {
    "duration": 4,
    "start_time": "2024-07-29T17:08:05.268Z"
   },
   {
    "duration": 311,
    "start_time": "2024-07-29T17:08:15.572Z"
   },
   {
    "duration": 24,
    "start_time": "2024-07-29T17:09:59.037Z"
   },
   {
    "duration": 3294,
    "start_time": "2024-07-29T17:11:07.400Z"
   },
   {
    "duration": 325,
    "start_time": "2024-07-29T17:12:20.113Z"
   },
   {
    "duration": 11198,
    "start_time": "2024-07-29T17:16:08.816Z"
   },
   {
    "duration": 474,
    "start_time": "2024-07-29T17:16:28.668Z"
   },
   {
    "duration": 38,
    "start_time": "2024-07-29T17:19:42.684Z"
   },
   {
    "duration": 32,
    "start_time": "2024-07-29T17:19:53.504Z"
   },
   {
    "duration": 11248,
    "start_time": "2024-07-29T17:26:11.671Z"
   },
   {
    "duration": 30,
    "start_time": "2024-07-29T17:26:38.676Z"
   },
   {
    "duration": 11213,
    "start_time": "2024-07-29T17:26:59.313Z"
   },
   {
    "duration": 807,
    "start_time": "2024-07-29T17:27:10.530Z"
   },
   {
    "duration": 11367,
    "start_time": "2024-07-29T17:28:20.862Z"
   },
   {
    "duration": 31,
    "start_time": "2024-07-29T17:28:34.797Z"
   },
   {
    "duration": 2502,
    "start_time": "2024-07-29T17:34:30.570Z"
   },
   {
    "duration": 11221,
    "start_time": "2024-07-29T17:36:10.460Z"
   },
   {
    "duration": 794,
    "start_time": "2024-07-29T17:36:38.331Z"
   },
   {
    "duration": 11293,
    "start_time": "2024-07-29T17:39:48.359Z"
   },
   {
    "duration": 32,
    "start_time": "2024-07-29T17:40:27.805Z"
   },
   {
    "duration": 5,
    "start_time": "2024-07-29T17:40:38.650Z"
   },
   {
    "duration": 4,
    "start_time": "2024-07-29T17:40:44.414Z"
   },
   {
    "duration": 1133,
    "start_time": "2024-07-29T17:40:56.924Z"
   },
   {
    "duration": 3722,
    "start_time": "2024-07-29T17:42:15.802Z"
   },
   {
    "duration": 4537,
    "start_time": "2024-07-29T17:42:29.211Z"
   },
   {
    "duration": 389,
    "start_time": "2024-07-29T17:42:47.885Z"
   },
   {
    "duration": 15806,
    "start_time": "2024-07-29T17:44:29.122Z"
   },
   {
    "duration": 153,
    "start_time": "2024-07-29T17:45:36.318Z"
   },
   {
    "duration": 6,
    "start_time": "2024-07-29T17:45:57.857Z"
   },
   {
    "duration": 46,
    "start_time": "2024-07-29T17:48:00.260Z"
   },
   {
    "duration": 54,
    "start_time": "2024-07-29T17:49:59.895Z"
   },
   {
    "duration": 2510,
    "start_time": "2024-07-29T17:50:53.695Z"
   },
   {
    "duration": 2825,
    "start_time": "2024-07-29T17:51:12.884Z"
   },
   {
    "duration": 50,
    "start_time": "2024-07-29T17:52:01.607Z"
   },
   {
    "duration": 2719,
    "start_time": "2024-07-29T17:52:53.870Z"
   },
   {
    "duration": 1378,
    "start_time": "2024-07-29T17:53:06.119Z"
   },
   {
    "duration": 2745,
    "start_time": "2024-07-29T17:53:13.495Z"
   },
   {
    "duration": 2073,
    "start_time": "2024-07-29T17:53:17.579Z"
   },
   {
    "duration": 1389,
    "start_time": "2024-07-29T17:53:55.935Z"
   },
   {
    "duration": 2773,
    "start_time": "2024-07-29T17:53:58.930Z"
   },
   {
    "duration": 48,
    "start_time": "2024-07-29T17:54:05.876Z"
   },
   {
    "duration": 1360,
    "start_time": "2024-07-29T17:54:14.709Z"
   },
   {
    "duration": 2776,
    "start_time": "2024-07-29T17:54:19.553Z"
   },
   {
    "duration": 2143,
    "start_time": "2024-07-29T17:54:25.632Z"
   },
   {
    "duration": 6,
    "start_time": "2024-07-29T17:57:54.163Z"
   },
   {
    "duration": 44,
    "start_time": "2024-07-29T17:58:13.637Z"
   },
   {
    "duration": 2096,
    "start_time": "2024-07-29T17:59:18.452Z"
   },
   {
    "duration": 43,
    "start_time": "2024-07-29T17:59:39.961Z"
   },
   {
    "duration": 721,
    "start_time": "2024-07-29T17:59:57.625Z"
   },
   {
    "duration": 54,
    "start_time": "2024-07-29T18:00:08.595Z"
   },
   {
    "duration": 349,
    "start_time": "2024-07-29T18:04:13.033Z"
   },
   {
    "duration": 360,
    "start_time": "2024-07-29T18:04:29.483Z"
   },
   {
    "duration": 39,
    "start_time": "2024-07-29T18:04:55.351Z"
   },
   {
    "duration": 44,
    "start_time": "2024-07-29T18:06:48.381Z"
   },
   {
    "duration": 1384,
    "start_time": "2024-07-29T18:08:40.605Z"
   },
   {
    "duration": 11189,
    "start_time": "2024-07-29T18:09:01.650Z"
   },
   {
    "duration": 2086,
    "start_time": "2024-07-29T18:09:26.772Z"
   },
   {
    "duration": 352,
    "start_time": "2024-07-29T18:09:56.391Z"
   },
   {
    "duration": 45,
    "start_time": "2024-07-29T18:10:22.118Z"
   },
   {
    "duration": 4,
    "start_time": "2024-07-29T18:10:33.140Z"
   },
   {
    "duration": 352,
    "start_time": "2024-07-29T18:10:52.375Z"
   },
   {
    "duration": 354,
    "start_time": "2024-07-29T18:10:59.766Z"
   },
   {
    "duration": 27,
    "start_time": "2024-07-29T18:12:01.172Z"
   },
   {
    "duration": 47,
    "start_time": "2024-07-29T18:16:05.872Z"
   },
   {
    "duration": 11372,
    "start_time": "2024-07-29T18:16:15.083Z"
   },
   {
    "duration": 2097,
    "start_time": "2024-07-29T18:16:26.458Z"
   },
   {
    "duration": 11282,
    "start_time": "2024-07-29T18:27:37.923Z"
   },
   {
    "duration": 48,
    "start_time": "2024-07-29T18:27:58.780Z"
   },
   {
    "duration": 9,
    "start_time": "2024-07-29T18:28:30.986Z"
   },
   {
    "duration": 11431,
    "start_time": "2024-07-29T18:33:36.139Z"
   },
   {
    "duration": 43,
    "start_time": "2024-07-29T18:33:50.693Z"
   },
   {
    "duration": 352,
    "start_time": "2024-07-29T18:46:43.253Z"
   },
   {
    "duration": 44,
    "start_time": "2024-07-29T18:47:23.188Z"
   },
   {
    "duration": 1128,
    "start_time": "2024-07-29T18:48:49.382Z"
   },
   {
    "duration": 3979,
    "start_time": "2024-07-29T18:49:03.269Z"
   },
   {
    "duration": 4,
    "start_time": "2024-07-29T18:49:17.406Z"
   },
   {
    "duration": 356,
    "start_time": "2024-07-29T18:49:26.317Z"
   },
   {
    "duration": 55,
    "start_time": "2024-07-29T18:50:26.636Z"
   },
   {
    "duration": 1083,
    "start_time": "2024-07-29T18:52:22.840Z"
   },
   {
    "duration": 6269,
    "start_time": "2024-07-29T18:52:46.871Z"
   },
   {
    "duration": 6,
    "start_time": "2024-07-29T18:53:14.013Z"
   },
   {
    "duration": 5,
    "start_time": "2024-07-29T18:53:28.645Z"
   },
   {
    "duration": 281,
    "start_time": "2024-07-29T18:53:32.633Z"
   },
   {
    "duration": 1034,
    "start_time": "2024-07-29T18:56:41.221Z"
   },
   {
    "duration": 998,
    "start_time": "2024-07-29T18:57:07.794Z"
   },
   {
    "duration": 4474,
    "start_time": "2024-07-29T18:57:30.150Z"
   },
   {
    "duration": 364,
    "start_time": "2024-07-29T18:58:14.520Z"
   },
   {
    "duration": 3961,
    "start_time": "2024-07-29T18:58:54.044Z"
   },
   {
    "duration": 191,
    "start_time": "2024-07-29T18:59:11.923Z"
   },
   {
    "duration": 194,
    "start_time": "2024-07-29T18:59:26.834Z"
   },
   {
    "duration": 197,
    "start_time": "2024-07-29T18:59:40.406Z"
   },
   {
    "duration": 11219,
    "start_time": "2024-07-29T18:59:51.862Z"
   },
   {
    "duration": 196,
    "start_time": "2024-07-29T19:00:04.484Z"
   },
   {
    "duration": 7,
    "start_time": "2024-07-29T19:04:04.229Z"
   },
   {
    "duration": 39819,
    "start_time": "2024-07-29T19:50:04.324Z"
   },
   {
    "duration": 778,
    "start_time": "2024-07-29T19:50:51.117Z"
   },
   {
    "duration": 918,
    "start_time": "2024-07-29T19:51:08.723Z"
   },
   {
    "duration": 798,
    "start_time": "2024-07-29T19:57:55.358Z"
   },
   {
    "duration": 266,
    "start_time": "2024-07-29T19:58:45.647Z"
   },
   {
    "duration": 134,
    "start_time": "2024-07-29T19:59:29.197Z"
   },
   {
    "duration": 245,
    "start_time": "2024-07-29T20:01:57.001Z"
   },
   {
    "duration": 100,
    "start_time": "2024-07-29T20:02:33.485Z"
   },
   {
    "duration": 28,
    "start_time": "2024-07-29T20:13:36.101Z"
   },
   {
    "duration": 29,
    "start_time": "2024-07-29T20:14:32.204Z"
   },
   {
    "duration": 1055,
    "start_time": "2024-07-29T20:14:40.357Z"
   },
   {
    "duration": 24,
    "start_time": "2024-07-29T20:15:26.357Z"
   },
   {
    "duration": 1924,
    "start_time": "2024-07-29T20:18:05.278Z"
   },
   {
    "duration": 9,
    "start_time": "2024-07-29T20:19:07.775Z"
   },
   {
    "duration": 6,
    "start_time": "2024-07-29T20:19:26.486Z"
   },
   {
    "duration": 5,
    "start_time": "2024-07-29T20:19:31.013Z"
   },
   {
    "duration": 99,
    "start_time": "2024-07-29T20:19:42.862Z"
   },
   {
    "duration": 24,
    "start_time": "2024-07-29T20:21:59.746Z"
   },
   {
    "duration": 12,
    "start_time": "2024-07-29T20:22:23.876Z"
   },
   {
    "duration": 27,
    "start_time": "2024-07-29T20:22:39.382Z"
   },
   {
    "duration": 22,
    "start_time": "2024-07-29T20:22:53.915Z"
   },
   {
    "duration": 1387,
    "start_time": "2024-07-29T20:23:27.400Z"
   },
   {
    "duration": 0,
    "start_time": "2024-07-29T20:23:28.791Z"
   },
   {
    "duration": 71,
    "start_time": "2024-07-29T20:24:15.188Z"
   },
   {
    "duration": 74,
    "start_time": "2024-07-29T20:24:22.972Z"
   },
   {
    "duration": 177,
    "start_time": "2024-07-29T20:24:32.142Z"
   },
   {
    "duration": 11738,
    "start_time": "2024-07-29T20:24:43.764Z"
   },
   {
    "duration": 36,
    "start_time": "2024-07-29T20:24:55.505Z"
   },
   {
    "duration": 0,
    "start_time": "2024-07-29T20:24:55.545Z"
   },
   {
    "duration": 0,
    "start_time": "2024-07-29T20:24:55.548Z"
   },
   {
    "duration": 0,
    "start_time": "2024-07-29T20:24:55.550Z"
   },
   {
    "duration": 0,
    "start_time": "2024-07-29T20:24:55.551Z"
   },
   {
    "duration": 0,
    "start_time": "2024-07-29T20:24:55.555Z"
   },
   {
    "duration": 0,
    "start_time": "2024-07-29T20:24:55.556Z"
   },
   {
    "duration": 0,
    "start_time": "2024-07-29T20:24:55.559Z"
   },
   {
    "duration": 0,
    "start_time": "2024-07-29T20:24:55.561Z"
   },
   {
    "duration": 0,
    "start_time": "2024-07-29T20:24:55.563Z"
   },
   {
    "duration": 0,
    "start_time": "2024-07-29T20:24:55.565Z"
   },
   {
    "duration": 0,
    "start_time": "2024-07-29T20:24:55.567Z"
   },
   {
    "duration": 728,
    "start_time": "2024-07-29T20:25:36.924Z"
   },
   {
    "duration": 264,
    "start_time": "2024-07-29T20:25:39.573Z"
   },
   {
    "duration": 140,
    "start_time": "2024-07-29T20:25:45.760Z"
   },
   {
    "duration": 230,
    "start_time": "2024-07-29T20:25:48.991Z"
   },
   {
    "duration": 95,
    "start_time": "2024-07-29T20:25:51.014Z"
   },
   {
    "duration": 1075,
    "start_time": "2024-07-29T20:25:56.817Z"
   },
   {
    "duration": 25,
    "start_time": "2024-07-29T20:26:02.296Z"
   },
   {
    "duration": 1924,
    "start_time": "2024-07-29T20:26:10.280Z"
   },
   {
    "duration": 114,
    "start_time": "2024-07-29T20:26:17.301Z"
   },
   {
    "duration": 15,
    "start_time": "2024-07-29T20:26:20.197Z"
   },
   {
    "duration": 26,
    "start_time": "2024-07-29T20:26:32.943Z"
   },
   {
    "duration": 41,
    "start_time": "2024-07-29T20:27:12.395Z"
   },
   {
    "duration": 72,
    "start_time": "2024-07-29T20:38:36.802Z"
   },
   {
    "duration": 33,
    "start_time": "2024-07-29T20:39:11.513Z"
   },
   {
    "duration": 11459,
    "start_time": "2024-07-29T20:41:36.611Z"
   },
   {
    "duration": 37,
    "start_time": "2024-07-29T20:41:48.076Z"
   },
   {
    "duration": 0,
    "start_time": "2024-07-29T20:41:48.117Z"
   },
   {
    "duration": 0,
    "start_time": "2024-07-29T20:41:48.120Z"
   },
   {
    "duration": 0,
    "start_time": "2024-07-29T20:41:48.122Z"
   },
   {
    "duration": 0,
    "start_time": "2024-07-29T20:41:48.125Z"
   },
   {
    "duration": 0,
    "start_time": "2024-07-29T20:41:48.127Z"
   },
   {
    "duration": 0,
    "start_time": "2024-07-29T20:41:48.130Z"
   },
   {
    "duration": 0,
    "start_time": "2024-07-29T20:41:48.133Z"
   },
   {
    "duration": 0,
    "start_time": "2024-07-29T20:41:48.134Z"
   },
   {
    "duration": 0,
    "start_time": "2024-07-29T20:41:48.137Z"
   },
   {
    "duration": 0,
    "start_time": "2024-07-29T20:41:48.140Z"
   },
   {
    "duration": 0,
    "start_time": "2024-07-29T20:41:48.142Z"
   },
   {
    "duration": 0,
    "start_time": "2024-07-29T20:41:48.144Z"
   },
   {
    "duration": 0,
    "start_time": "2024-07-29T20:41:48.146Z"
   },
   {
    "duration": 0,
    "start_time": "2024-07-29T20:41:48.191Z"
   },
   {
    "duration": 0,
    "start_time": "2024-07-29T20:41:48.197Z"
   },
   {
    "duration": 0,
    "start_time": "2024-07-29T20:41:48.199Z"
   },
   {
    "duration": 0,
    "start_time": "2024-07-29T20:41:48.202Z"
   },
   {
    "duration": 0,
    "start_time": "2024-07-29T20:41:48.204Z"
   },
   {
    "duration": 0,
    "start_time": "2024-07-29T20:41:48.207Z"
   },
   {
    "duration": 0,
    "start_time": "2024-07-29T20:41:48.209Z"
   },
   {
    "duration": 4,
    "start_time": "2024-07-29T20:51:02.252Z"
   },
   {
    "duration": 1286,
    "start_time": "2024-07-29T20:51:23.924Z"
   },
   {
    "duration": 3750,
    "start_time": "2024-07-29T20:51:46.807Z"
   },
   {
    "duration": 4083,
    "start_time": "2024-07-29T20:52:06.661Z"
   },
   {
    "duration": 31,
    "start_time": "2024-07-29T20:52:28.995Z"
   },
   {
    "duration": 30,
    "start_time": "2024-07-29T20:52:40.658Z"
   },
   {
    "duration": 4844,
    "start_time": "2024-07-29T20:53:12.808Z"
   },
   {
    "duration": 153,
    "start_time": "2024-07-29T20:53:20.837Z"
   },
   {
    "duration": 7,
    "start_time": "2024-07-29T20:53:32.666Z"
   },
   {
    "duration": 11609,
    "start_time": "2024-07-29T20:53:42.613Z"
   },
   {
    "duration": 5,
    "start_time": "2024-07-29T20:53:54.227Z"
   },
   {
    "duration": 1157,
    "start_time": "2024-07-29T20:53:54.235Z"
   },
   {
    "duration": 3512,
    "start_time": "2024-07-29T20:53:55.395Z"
   },
   {
    "duration": 3626,
    "start_time": "2024-07-29T20:53:58.912Z"
   },
   {
    "duration": 9,
    "start_time": "2024-07-29T20:54:02.541Z"
   },
   {
    "duration": 734,
    "start_time": "2024-07-29T20:54:02.553Z"
   },
   {
    "duration": 266,
    "start_time": "2024-07-29T20:54:03.292Z"
   },
   {
    "duration": 149,
    "start_time": "2024-07-29T20:54:03.561Z"
   },
   {
    "duration": 274,
    "start_time": "2024-07-29T20:54:03.712Z"
   },
   {
    "duration": 105,
    "start_time": "2024-07-29T20:54:03.992Z"
   },
   {
    "duration": 1111,
    "start_time": "2024-07-29T20:54:04.100Z"
   },
   {
    "duration": 29,
    "start_time": "2024-07-29T20:54:05.214Z"
   },
   {
    "duration": 1970,
    "start_time": "2024-07-29T20:54:05.249Z"
   },
   {
    "duration": 104,
    "start_time": "2024-07-29T20:54:07.222Z"
   },
   {
    "duration": 12,
    "start_time": "2024-07-29T20:54:07.329Z"
   },
   {
    "duration": 2782,
    "start_time": "2024-07-29T20:54:07.343Z"
   },
   {
    "duration": 82,
    "start_time": "2024-07-29T20:54:10.129Z"
   },
   {
    "duration": 31,
    "start_time": "2024-07-29T20:54:10.214Z"
   },
   {
    "duration": 471,
    "start_time": "2024-07-29T20:54:10.248Z"
   },
   {
    "duration": 0,
    "start_time": "2024-07-29T20:54:10.723Z"
   },
   {
    "duration": 0,
    "start_time": "2024-07-29T20:54:10.724Z"
   },
   {
    "duration": 0,
    "start_time": "2024-07-29T20:54:10.727Z"
   },
   {
    "duration": 0,
    "start_time": "2024-07-29T20:54:10.729Z"
   },
   {
    "duration": 0,
    "start_time": "2024-07-29T20:54:10.731Z"
   },
   {
    "duration": 0,
    "start_time": "2024-07-29T20:54:10.734Z"
   },
   {
    "duration": 39,
    "start_time": "2024-07-29T21:01:30.598Z"
   },
   {
    "duration": 54,
    "start_time": "2024-07-29T21:01:52.560Z"
   },
   {
    "duration": 15041,
    "start_time": "2024-07-29T21:07:51.437Z"
   },
   {
    "duration": 5,
    "start_time": "2024-07-29T21:08:21.313Z"
   },
   {
    "duration": 1203,
    "start_time": "2024-07-29T21:08:21.731Z"
   },
   {
    "duration": 3574,
    "start_time": "2024-07-29T21:08:22.938Z"
   },
   {
    "duration": 3588,
    "start_time": "2024-07-29T21:08:27.327Z"
   },
   {
    "duration": 59,
    "start_time": "2024-07-29T21:08:34.779Z"
   },
   {
    "duration": 15108,
    "start_time": "2024-07-29T21:09:43.031Z"
   },
   {
    "duration": 4,
    "start_time": "2024-07-29T21:09:58.144Z"
   },
   {
    "duration": 1150,
    "start_time": "2024-07-29T21:09:58.152Z"
   },
   {
    "duration": 3634,
    "start_time": "2024-07-29T21:09:59.305Z"
   },
   {
    "duration": 3629,
    "start_time": "2024-07-29T21:10:02.943Z"
   },
   {
    "duration": 2236,
    "start_time": "2024-07-29T21:10:06.575Z"
   },
   {
    "duration": 0,
    "start_time": "2024-07-29T21:10:08.816Z"
   },
   {
    "duration": 0,
    "start_time": "2024-07-29T21:10:08.818Z"
   },
   {
    "duration": 0,
    "start_time": "2024-07-29T21:10:08.821Z"
   },
   {
    "duration": 0,
    "start_time": "2024-07-29T21:10:08.823Z"
   },
   {
    "duration": 0,
    "start_time": "2024-07-29T21:10:08.826Z"
   },
   {
    "duration": 0,
    "start_time": "2024-07-29T21:10:08.827Z"
   },
   {
    "duration": 0,
    "start_time": "2024-07-29T21:10:08.831Z"
   },
   {
    "duration": 0,
    "start_time": "2024-07-29T21:10:08.832Z"
   },
   {
    "duration": 0,
    "start_time": "2024-07-29T21:10:08.834Z"
   },
   {
    "duration": 0,
    "start_time": "2024-07-29T21:10:08.836Z"
   },
   {
    "duration": 0,
    "start_time": "2024-07-29T21:10:08.838Z"
   },
   {
    "duration": 0,
    "start_time": "2024-07-29T21:10:08.840Z"
   },
   {
    "duration": 0,
    "start_time": "2024-07-29T21:10:08.842Z"
   },
   {
    "duration": 0,
    "start_time": "2024-07-29T21:10:08.844Z"
   },
   {
    "duration": 0,
    "start_time": "2024-07-29T21:10:08.845Z"
   },
   {
    "duration": 0,
    "start_time": "2024-07-29T21:10:08.891Z"
   },
   {
    "duration": 0,
    "start_time": "2024-07-29T21:10:08.893Z"
   },
   {
    "duration": 0,
    "start_time": "2024-07-29T21:10:08.895Z"
   },
   {
    "duration": 0,
    "start_time": "2024-07-29T21:10:08.897Z"
   },
   {
    "duration": 0,
    "start_time": "2024-07-29T21:10:08.899Z"
   },
   {
    "duration": 71,
    "start_time": "2024-07-29T21:14:18.419Z"
   },
   {
    "duration": 6,
    "start_time": "2024-07-29T21:15:38.569Z"
   },
   {
    "duration": 9659,
    "start_time": "2024-07-29T21:16:11.345Z"
   },
   {
    "duration": 2172,
    "start_time": "2024-07-29T21:16:34.787Z"
   },
   {
    "duration": 14779,
    "start_time": "2024-07-29T21:16:47.068Z"
   },
   {
    "duration": 5,
    "start_time": "2024-07-29T21:17:05.224Z"
   },
   {
    "duration": 1143,
    "start_time": "2024-07-29T21:17:06.510Z"
   },
   {
    "duration": 3513,
    "start_time": "2024-07-29T21:17:09.402Z"
   },
   {
    "duration": 3638,
    "start_time": "2024-07-29T21:17:14.161Z"
   },
   {
    "duration": 9511,
    "start_time": "2024-07-29T21:17:20.213Z"
   },
   {
    "duration": 49,
    "start_time": "2024-07-29T21:17:33.234Z"
   },
   {
    "duration": 8,
    "start_time": "2024-07-29T21:20:43.961Z"
   },
   {
    "duration": 3,
    "start_time": "2024-07-29T21:20:49.101Z"
   },
   {
    "duration": 42,
    "start_time": "2024-07-29T21:22:13.963Z"
   },
   {
    "duration": 3626,
    "start_time": "2024-07-29T21:23:20.658Z"
   },
   {
    "duration": 3465,
    "start_time": "2024-07-29T21:23:38.027Z"
   },
   {
    "duration": 37,
    "start_time": "2024-07-29T21:23:52.050Z"
   },
   {
    "duration": 14623,
    "start_time": "2024-07-29T21:24:39.339Z"
   },
   {
    "duration": 4,
    "start_time": "2024-07-29T21:24:53.966Z"
   },
   {
    "duration": 1157,
    "start_time": "2024-07-29T21:24:53.973Z"
   },
   {
    "duration": 3545,
    "start_time": "2024-07-29T21:24:55.135Z"
   },
   {
    "duration": 3516,
    "start_time": "2024-07-29T21:24:58.684Z"
   },
   {
    "duration": 3641,
    "start_time": "2024-07-29T21:25:02.203Z"
   },
   {
    "duration": 3474,
    "start_time": "2024-07-29T21:25:05.847Z"
   },
   {
    "duration": 719,
    "start_time": "2024-07-29T21:25:09.324Z"
   },
   {
    "duration": 0,
    "start_time": "2024-07-29T21:25:10.047Z"
   },
   {
    "duration": 0,
    "start_time": "2024-07-29T21:25:10.049Z"
   },
   {
    "duration": 0,
    "start_time": "2024-07-29T21:25:10.051Z"
   },
   {
    "duration": 0,
    "start_time": "2024-07-29T21:25:10.054Z"
   },
   {
    "duration": 0,
    "start_time": "2024-07-29T21:25:10.057Z"
   },
   {
    "duration": 0,
    "start_time": "2024-07-29T21:25:10.059Z"
   },
   {
    "duration": 0,
    "start_time": "2024-07-29T21:25:10.090Z"
   },
   {
    "duration": 0,
    "start_time": "2024-07-29T21:25:10.092Z"
   },
   {
    "duration": 0,
    "start_time": "2024-07-29T21:25:10.095Z"
   },
   {
    "duration": 0,
    "start_time": "2024-07-29T21:25:10.097Z"
   },
   {
    "duration": 0,
    "start_time": "2024-07-29T21:25:10.100Z"
   },
   {
    "duration": 0,
    "start_time": "2024-07-29T21:25:10.102Z"
   },
   {
    "duration": 0,
    "start_time": "2024-07-29T21:25:10.104Z"
   },
   {
    "duration": 0,
    "start_time": "2024-07-29T21:25:10.106Z"
   },
   {
    "duration": 0,
    "start_time": "2024-07-29T21:25:10.108Z"
   },
   {
    "duration": 0,
    "start_time": "2024-07-29T21:25:10.110Z"
   },
   {
    "duration": 1,
    "start_time": "2024-07-29T21:25:10.111Z"
   },
   {
    "duration": 0,
    "start_time": "2024-07-29T21:25:10.113Z"
   },
   {
    "duration": 0,
    "start_time": "2024-07-29T21:25:10.116Z"
   },
   {
    "duration": 0,
    "start_time": "2024-07-29T21:25:10.117Z"
   },
   {
    "duration": 0,
    "start_time": "2024-07-29T21:25:10.120Z"
   },
   {
    "duration": 3416,
    "start_time": "2024-07-29T21:37:21.797Z"
   },
   {
    "duration": 5,
    "start_time": "2024-07-29T21:37:58.719Z"
   },
   {
    "duration": 6,
    "start_time": "2024-07-29T21:38:23.404Z"
   },
   {
    "duration": 3423,
    "start_time": "2024-07-29T21:38:53.889Z"
   },
   {
    "duration": 1191,
    "start_time": "2024-07-29T21:40:03.132Z"
   },
   {
    "duration": 2847,
    "start_time": "2024-07-29T21:40:58.569Z"
   },
   {
    "duration": 102,
    "start_time": "2024-07-29T21:41:04.480Z"
   },
   {
    "duration": 36,
    "start_time": "2024-07-29T21:41:38.412Z"
   },
   {
    "duration": 438,
    "start_time": "2024-07-29T21:51:01.152Z"
   },
   {
    "duration": 48,
    "start_time": "2024-07-29T21:53:59.131Z"
   },
   {
    "duration": 107,
    "start_time": "2024-07-29T22:04:34.971Z"
   },
   {
    "duration": 5239,
    "start_time": "2024-07-30T14:25:16.764Z"
   },
   {
    "duration": 826,
    "start_time": "2024-07-30T14:27:36.102Z"
   },
   {
    "duration": 256,
    "start_time": "2024-07-30T14:27:37.045Z"
   },
   {
    "duration": 19,
    "start_time": "2024-07-30T14:27:49.033Z"
   },
   {
    "duration": 22,
    "start_time": "2024-07-30T14:28:11.250Z"
   },
   {
    "duration": 138,
    "start_time": "2024-07-30T14:30:48.309Z"
   },
   {
    "duration": 241,
    "start_time": "2024-07-30T14:30:53.720Z"
   },
   {
    "duration": 98,
    "start_time": "2024-07-30T14:30:56.873Z"
   },
   {
    "duration": 19,
    "start_time": "2024-07-30T14:40:17.718Z"
   },
   {
    "duration": 1983,
    "start_time": "2024-07-30T14:46:19.093Z"
   },
   {
    "duration": 1410,
    "start_time": "2024-07-30T14:53:07.337Z"
   },
   {
    "duration": 1128,
    "start_time": "2024-07-30T14:54:32.006Z"
   },
   {
    "duration": 81,
    "start_time": "2024-07-30T14:59:23.130Z"
   },
   {
    "duration": 43,
    "start_time": "2024-07-30T15:00:02.300Z"
   },
   {
    "duration": 17,
    "start_time": "2024-07-30T15:01:46.576Z"
   },
   {
    "duration": 43,
    "start_time": "2024-07-30T15:02:07.560Z"
   },
   {
    "duration": 17,
    "start_time": "2024-07-30T15:02:08.991Z"
   },
   {
    "duration": 18,
    "start_time": "2024-07-30T15:02:33.018Z"
   },
   {
    "duration": 98,
    "start_time": "2024-07-30T15:03:01.505Z"
   },
   {
    "duration": 105,
    "start_time": "2024-07-30T15:06:12.041Z"
   },
   {
    "duration": 38,
    "start_time": "2024-07-30T15:12:06.487Z"
   },
   {
    "duration": 38,
    "start_time": "2024-07-30T15:13:04.641Z"
   },
   {
    "duration": 70,
    "start_time": "2024-07-30T15:16:45.187Z"
   },
   {
    "duration": 77,
    "start_time": "2024-07-30T15:20:56.513Z"
   },
   {
    "duration": 72,
    "start_time": "2024-07-30T15:21:00.701Z"
   },
   {
    "duration": 43,
    "start_time": "2024-07-30T15:21:06.676Z"
   },
   {
    "duration": 73,
    "start_time": "2024-07-30T15:21:08.301Z"
   },
   {
    "duration": 80,
    "start_time": "2024-07-30T15:21:14.290Z"
   },
   {
    "duration": 6,
    "start_time": "2024-07-30T15:21:29.885Z"
   },
   {
    "duration": 727,
    "start_time": "2024-07-30T15:21:29.895Z"
   },
   {
    "duration": 21,
    "start_time": "2024-07-30T15:21:30.625Z"
   },
   {
    "duration": 265,
    "start_time": "2024-07-30T15:21:30.649Z"
   },
   {
    "duration": 28,
    "start_time": "2024-07-30T15:21:30.918Z"
   },
   {
    "duration": 40964,
    "start_time": "2024-07-30T15:21:30.949Z"
   },
   {
    "duration": 99,
    "start_time": "2024-07-30T15:22:11.917Z"
   },
   {
    "duration": 795,
    "start_time": "2024-07-30T15:22:12.033Z"
   },
   {
    "duration": 0,
    "start_time": "2024-07-30T15:22:12.831Z"
   },
   {
    "duration": 0,
    "start_time": "2024-07-30T15:22:12.832Z"
   },
   {
    "duration": 0,
    "start_time": "2024-07-30T15:22:12.833Z"
   },
   {
    "duration": 0,
    "start_time": "2024-07-30T15:22:12.835Z"
   },
   {
    "duration": 0,
    "start_time": "2024-07-30T15:22:12.838Z"
   },
   {
    "duration": 0,
    "start_time": "2024-07-30T15:22:12.840Z"
   },
   {
    "duration": 157,
    "start_time": "2024-07-30T15:22:34.351Z"
   },
   {
    "duration": 68,
    "start_time": "2024-07-30T15:22:42.833Z"
   },
   {
    "duration": 1026,
    "start_time": "2024-07-30T15:22:47.639Z"
   },
   {
    "duration": 47,
    "start_time": "2024-07-30T15:22:52.807Z"
   },
   {
    "duration": 126,
    "start_time": "2024-07-30T15:22:56.357Z"
   },
   {
    "duration": 45,
    "start_time": "2024-07-30T15:22:58.359Z"
   },
   {
    "duration": 77,
    "start_time": "2024-07-30T15:23:02.814Z"
   },
   {
    "duration": 61,
    "start_time": "2024-07-30T15:31:18.179Z"
   },
   {
    "duration": 1032,
    "start_time": "2024-07-30T15:34:35.084Z"
   },
   {
    "duration": 23,
    "start_time": "2024-07-30T15:36:33.840Z"
   },
   {
    "duration": 347,
    "start_time": "2024-07-30T15:37:46.598Z"
   },
   {
    "duration": 5,
    "start_time": "2024-07-30T15:48:48.517Z"
   },
   {
    "duration": 4,
    "start_time": "2024-07-30T15:48:50.604Z"
   },
   {
    "duration": 12,
    "start_time": "2024-07-30T15:50:22.324Z"
   },
   {
    "duration": 5,
    "start_time": "2024-07-30T15:51:15.151Z"
   },
   {
    "duration": 214,
    "start_time": "2024-07-30T16:10:54.404Z"
   },
   {
    "duration": 42,
    "start_time": "2024-07-30T16:12:04.525Z"
   },
   {
    "duration": 36,
    "start_time": "2024-07-30T16:12:12.909Z"
   },
   {
    "duration": 37,
    "start_time": "2024-07-30T16:12:16.878Z"
   },
   {
    "duration": 5,
    "start_time": "2024-07-30T16:27:15.794Z"
   },
   {
    "duration": 82,
    "start_time": "2024-07-30T16:28:10.713Z"
   },
   {
    "duration": 15,
    "start_time": "2024-07-30T16:28:32.173Z"
   },
   {
    "duration": 37,
    "start_time": "2024-07-30T16:31:20.661Z"
   },
   {
    "duration": 9,
    "start_time": "2024-07-30T16:31:35.435Z"
   },
   {
    "duration": 13,
    "start_time": "2024-07-30T16:33:33.385Z"
   },
   {
    "duration": 35,
    "start_time": "2024-07-30T16:33:38.655Z"
   },
   {
    "duration": 462,
    "start_time": "2024-07-30T16:37:03.365Z"
   },
   {
    "duration": 52,
    "start_time": "2024-07-30T16:41:16.308Z"
   },
   {
    "duration": 126742,
    "start_time": "2024-07-30T16:42:30.364Z"
   },
   {
    "duration": 22696,
    "start_time": "2024-07-30T16:50:06.461Z"
   },
   {
    "duration": 827,
    "start_time": "2024-07-30T16:50:29.161Z"
   },
   {
    "duration": 12913,
    "start_time": "2024-07-30T16:53:35.335Z"
   },
   {
    "duration": 1704,
    "start_time": "2024-07-30T16:57:24.735Z"
   },
   {
    "duration": 313,
    "start_time": "2024-07-30T16:57:26.446Z"
   },
   {
    "duration": 20989,
    "start_time": "2024-07-30T17:04:17.881Z"
   },
   {
    "duration": 369,
    "start_time": "2024-07-30T17:04:38.874Z"
   },
   {
    "duration": 155,
    "start_time": "2024-07-30T17:09:46.944Z"
   },
   {
    "duration": 966,
    "start_time": "2024-07-30T17:10:49.768Z"
   },
   {
    "duration": 155,
    "start_time": "2024-07-30T17:10:51.580Z"
   },
   {
    "duration": 156,
    "start_time": "2024-07-30T17:11:09.771Z"
   },
   {
    "duration": 167,
    "start_time": "2024-07-30T17:11:11.062Z"
   },
   {
    "duration": 159,
    "start_time": "2024-07-30T17:11:38.240Z"
   },
   {
    "duration": 178,
    "start_time": "2024-07-30T17:11:50.185Z"
   },
   {
    "duration": 751,
    "start_time": "2024-07-30T17:13:30.510Z"
   },
   {
    "duration": 294,
    "start_time": "2024-07-30T17:14:51.722Z"
   },
   {
    "duration": 179,
    "start_time": "2024-07-30T17:15:00.710Z"
   },
   {
    "duration": 652,
    "start_time": "2024-07-30T17:18:04.275Z"
   },
   {
    "duration": 6,
    "start_time": "2024-07-30T17:24:32.339Z"
   },
   {
    "duration": 721,
    "start_time": "2024-07-30T17:24:32.349Z"
   },
   {
    "duration": 20,
    "start_time": "2024-07-30T17:24:33.073Z"
   },
   {
    "duration": 265,
    "start_time": "2024-07-30T17:24:33.096Z"
   },
   {
    "duration": 19,
    "start_time": "2024-07-30T17:24:33.366Z"
   },
   {
    "duration": 40907,
    "start_time": "2024-07-30T17:24:33.388Z"
   },
   {
    "duration": 103,
    "start_time": "2024-07-30T17:25:14.298Z"
   },
   {
    "duration": 178,
    "start_time": "2024-07-30T17:25:14.404Z"
   },
   {
    "duration": 76,
    "start_time": "2024-07-30T17:25:14.585Z"
   },
   {
    "duration": 1044,
    "start_time": "2024-07-30T17:25:14.667Z"
   },
   {
    "duration": 229,
    "start_time": "2024-07-30T17:25:15.714Z"
   },
   {
    "duration": 150,
    "start_time": "2024-07-30T17:25:15.947Z"
   },
   {
    "duration": 57,
    "start_time": "2024-07-30T17:25:16.100Z"
   },
   {
    "duration": 102,
    "start_time": "2024-07-30T17:25:16.165Z"
   },
   {
    "duration": 86,
    "start_time": "2024-07-30T17:25:16.271Z"
   },
   {
    "duration": 1282,
    "start_time": "2024-07-30T17:25:16.359Z"
   },
   {
    "duration": 23,
    "start_time": "2024-07-30T17:25:17.645Z"
   },
   {
    "duration": 242,
    "start_time": "2024-07-30T17:25:17.671Z"
   },
   {
    "duration": 20,
    "start_time": "2024-07-30T17:25:17.917Z"
   },
   {
    "duration": 5,
    "start_time": "2024-07-30T17:25:17.941Z"
   },
   {
    "duration": 246,
    "start_time": "2024-07-30T17:25:17.950Z"
   },
   {
    "duration": 57,
    "start_time": "2024-07-30T17:25:18.199Z"
   },
   {
    "duration": 12,
    "start_time": "2024-07-30T17:25:18.259Z"
   },
   {
    "duration": 609,
    "start_time": "2024-07-30T17:25:18.274Z"
   },
   {
    "duration": 55,
    "start_time": "2024-07-30T17:25:18.887Z"
   },
   {
    "duration": 125773,
    "start_time": "2024-07-30T17:25:18.945Z"
   },
   {
    "duration": 18829,
    "start_time": "2024-07-30T17:27:24.722Z"
   },
   {
    "duration": 781,
    "start_time": "2024-07-30T17:27:43.554Z"
   },
   {
    "duration": 13013,
    "start_time": "2024-07-30T17:27:44.337Z"
   },
   {
    "duration": 1587,
    "start_time": "2024-07-30T17:27:57.354Z"
   },
   {
    "duration": 388,
    "start_time": "2024-07-30T17:27:58.945Z"
   },
   {
    "duration": 21070,
    "start_time": "2024-07-30T17:27:59.336Z"
   },
   {
    "duration": 321,
    "start_time": "2024-07-30T17:28:20.435Z"
   },
   {
    "duration": 851,
    "start_time": "2024-07-30T17:28:20.759Z"
   },
   {
    "duration": 17,
    "start_time": "2024-07-30T19:39:26.164Z"
   },
   {
    "duration": 5358,
    "start_time": "2024-07-30T19:43:35.544Z"
   },
   {
    "duration": 784,
    "start_time": "2024-07-30T19:43:40.906Z"
   },
   {
    "duration": 37,
    "start_time": "2024-07-30T19:43:41.693Z"
   },
   {
    "duration": 255,
    "start_time": "2024-07-30T19:43:41.736Z"
   },
   {
    "duration": 29,
    "start_time": "2024-07-30T19:43:41.994Z"
   },
   {
    "duration": 41492,
    "start_time": "2024-07-30T19:43:42.026Z"
   },
   {
    "duration": 110,
    "start_time": "2024-07-30T19:44:23.524Z"
   },
   {
    "duration": 170,
    "start_time": "2024-07-30T19:44:23.637Z"
   },
   {
    "duration": 71,
    "start_time": "2024-07-30T19:44:23.811Z"
   },
   {
    "duration": 1010,
    "start_time": "2024-07-30T19:44:23.887Z"
   },
   {
    "duration": 124,
    "start_time": "2024-07-30T19:44:24.900Z"
   },
   {
    "duration": 118,
    "start_time": "2024-07-30T19:44:25.028Z"
   },
   {
    "duration": 38,
    "start_time": "2024-07-30T19:44:25.149Z"
   },
   {
    "duration": 91,
    "start_time": "2024-07-30T19:44:25.190Z"
   },
   {
    "duration": 84,
    "start_time": "2024-07-30T19:44:25.284Z"
   },
   {
    "duration": 974,
    "start_time": "2024-07-30T19:44:25.371Z"
   },
   {
    "duration": 22,
    "start_time": "2024-07-30T19:44:26.348Z"
   },
   {
    "duration": 196,
    "start_time": "2024-07-30T19:44:26.373Z"
   },
   {
    "duration": 13,
    "start_time": "2024-07-30T19:44:35.696Z"
   },
   {
    "duration": 4,
    "start_time": "2024-07-30T19:44:37.059Z"
   },
   {
    "duration": 20,
    "start_time": "2024-07-30T19:44:43.923Z"
   },
   {
    "duration": 6,
    "start_time": "2024-07-30T19:52:09.676Z"
   },
   {
    "duration": 6,
    "start_time": "2024-07-30T19:52:20.160Z"
   },
   {
    "duration": 6,
    "start_time": "2024-07-30T19:53:36.624Z"
   },
   {
    "duration": 5,
    "start_time": "2024-07-30T19:53:59.471Z"
   },
   {
    "duration": 5265,
    "start_time": "2024-07-30T20:40:41.409Z"
   },
   {
    "duration": 781,
    "start_time": "2024-07-30T20:40:46.678Z"
   },
   {
    "duration": 27,
    "start_time": "2024-07-30T20:40:47.463Z"
   },
   {
    "duration": 273,
    "start_time": "2024-07-30T20:40:47.495Z"
   },
   {
    "duration": 20,
    "start_time": "2024-07-30T20:40:47.771Z"
   },
   {
    "duration": 40958,
    "start_time": "2024-07-30T20:40:53.621Z"
   },
   {
    "duration": 120,
    "start_time": "2024-07-30T20:42:58.682Z"
   },
   {
    "duration": 95,
    "start_time": "2024-07-30T20:43:11.432Z"
   },
   {
    "duration": 34,
    "start_time": "2024-07-30T20:43:18.516Z"
   },
   {
    "duration": 92,
    "start_time": "2024-07-30T20:43:21.495Z"
   },
   {
    "duration": 1781,
    "start_time": "2024-07-30T20:43:46.794Z"
   },
   {
    "duration": 30,
    "start_time": "2024-07-30T20:44:29.710Z"
   },
   {
    "duration": 222,
    "start_time": "2024-07-30T20:45:35.528Z"
   },
   {
    "duration": 1426,
    "start_time": "2024-07-30T20:45:57.219Z"
   },
   {
    "duration": 45,
    "start_time": "2024-07-30T20:46:12.688Z"
   },
   {
    "duration": 131,
    "start_time": "2024-07-30T20:46:14.293Z"
   },
   {
    "duration": 50,
    "start_time": "2024-07-30T20:46:18.858Z"
   },
   {
    "duration": 106,
    "start_time": "2024-07-30T20:46:24.108Z"
   },
   {
    "duration": 76,
    "start_time": "2024-07-30T20:48:02.784Z"
   },
   {
    "duration": 67,
    "start_time": "2024-07-30T20:48:15.304Z"
   },
   {
    "duration": 950,
    "start_time": "2024-07-30T20:48:17.667Z"
   },
   {
    "duration": 25,
    "start_time": "2024-07-30T20:48:26.434Z"
   },
   {
    "duration": 183,
    "start_time": "2024-07-30T20:48:31.303Z"
   },
   {
    "duration": 11,
    "start_time": "2024-07-30T20:50:23.807Z"
   },
   {
    "duration": 4,
    "start_time": "2024-07-30T20:50:27.269Z"
   },
   {
    "duration": 280,
    "start_time": "2024-07-30T20:50:31.179Z"
   },
   {
    "duration": 275,
    "start_time": "2024-07-30T20:50:36.016Z"
   },
   {
    "duration": 489,
    "start_time": "2024-07-30T20:52:44.219Z"
   },
   {
    "duration": 272,
    "start_time": "2024-07-30T20:55:09.927Z"
   },
   {
    "duration": 271,
    "start_time": "2024-07-30T21:02:15.828Z"
   },
   {
    "duration": 55,
    "start_time": "2024-07-30T21:02:17.931Z"
   },
   {
    "duration": 16,
    "start_time": "2024-07-30T21:02:21.219Z"
   },
   {
    "duration": 1639,
    "start_time": "2024-07-30T21:03:45.371Z"
   },
   {
    "duration": 17775,
    "start_time": "2024-07-30T21:05:08.657Z"
   },
   {
    "duration": 188,
    "start_time": "2024-07-30T21:05:26.440Z"
   },
   {
    "duration": 607,
    "start_time": "2024-07-30T21:07:22.888Z"
   },
   {
    "duration": 614,
    "start_time": "2024-07-30T21:07:34.826Z"
   },
   {
    "duration": 81,
    "start_time": "2024-07-30T21:07:35.444Z"
   },
   {
    "duration": 170524,
    "start_time": "2024-07-30T21:07:35.528Z"
   },
   {
    "duration": 26169,
    "start_time": "2024-07-30T21:10:26.055Z"
   },
   {
    "duration": 1038,
    "start_time": "2024-07-30T21:10:52.229Z"
   },
   {
    "duration": 16074,
    "start_time": "2024-07-30T21:10:53.270Z"
   },
   {
    "duration": 2289,
    "start_time": "2024-07-30T21:11:09.347Z"
   },
   {
    "duration": 496,
    "start_time": "2024-07-30T21:11:11.640Z"
   },
   {
    "duration": 28685,
    "start_time": "2024-07-30T21:11:12.139Z"
   },
   {
    "duration": 506,
    "start_time": "2024-07-30T21:11:40.826Z"
   },
   {
    "duration": 616,
    "start_time": "2024-07-30T21:11:41.335Z"
   }
  ],
  "kernelspec": {
   "display_name": "Python 3 (ipykernel)",
   "language": "python",
   "name": "python3"
  },
  "language_info": {
   "codemirror_mode": {
    "name": "ipython",
    "version": 3
   },
   "file_extension": ".py",
   "mimetype": "text/x-python",
   "name": "python",
   "nbconvert_exporter": "python",
   "pygments_lexer": "ipython3",
   "version": "3.9.19"
  },
  "toc": {
   "base_numbering": 1,
   "nav_menu": {},
   "number_sections": true,
   "sideBar": true,
   "skip_h1_title": true,
   "title_cell": "Table of Contents",
   "title_sidebar": "Contents",
   "toc_cell": false,
   "toc_position": {},
   "toc_section_display": true,
   "toc_window_display": false
  }
 },
 "nbformat": 4,
 "nbformat_minor": 2
}
